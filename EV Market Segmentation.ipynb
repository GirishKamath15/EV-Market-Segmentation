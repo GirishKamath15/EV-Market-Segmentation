{
 "cells": [
  {
   "cell_type": "code",
   "execution_count": 1,
   "id": "84980fa4",
   "metadata": {},
   "outputs": [],
   "source": [
    "import os as os "
   ]
  },
  {
   "cell_type": "code",
   "execution_count": 2,
   "id": "fc631188",
   "metadata": {},
   "outputs": [],
   "source": [
    "os.chdir(\"/Users/girishkamath/Desktop/Python Directory\")"
   ]
  },
  {
   "cell_type": "code",
   "execution_count": 3,
   "id": "94302aa0",
   "metadata": {},
   "outputs": [
    {
     "data": {
      "text/plain": [
       "'/Users/girishkamath/Desktop/Python Directory'"
      ]
     },
     "execution_count": 3,
     "metadata": {},
     "output_type": "execute_result"
    }
   ],
   "source": [
    "os.getcwd()"
   ]
  },
  {
   "cell_type": "code",
   "execution_count": 4,
   "id": "813346f4",
   "metadata": {},
   "outputs": [],
   "source": [
    "import pandas as pd \n",
    "import numpy as np \n",
    "import matplotlib.pyplot as plt\n",
    "import seaborn as sns \n",
    "import warnings \n",
    "warnings.filterwarnings('ignore')\n",
    "pd.set_option('display.max_columns',None)\n",
    "pd.set_option('display.max_rows',None)"
   ]
  },
  {
   "cell_type": "markdown",
   "id": "9195934b",
   "metadata": {},
   "source": [
    "# Reading the dataset"
   ]
  },
  {
   "cell_type": "code",
   "execution_count": 5,
   "id": "6989dfeb",
   "metadata": {},
   "outputs": [],
   "source": [
    "data=pd.read_csv(\"Electric_Vehicle_Data.csv\")"
   ]
  },
  {
   "cell_type": "code",
   "execution_count": 6,
   "id": "b2bacbe2",
   "metadata": {},
   "outputs": [],
   "source": [
    "data_copy=data"
   ]
  },
  {
   "cell_type": "code",
   "execution_count": 7,
   "id": "cad228b2",
   "metadata": {},
   "outputs": [
    {
     "data": {
      "text/html": [
       "<div>\n",
       "<style scoped>\n",
       "    .dataframe tbody tr th:only-of-type {\n",
       "        vertical-align: middle;\n",
       "    }\n",
       "\n",
       "    .dataframe tbody tr th {\n",
       "        vertical-align: top;\n",
       "    }\n",
       "\n",
       "    .dataframe thead th {\n",
       "        text-align: right;\n",
       "    }\n",
       "</style>\n",
       "<table border=\"1\" class=\"dataframe\">\n",
       "  <thead>\n",
       "    <tr style=\"text-align: right;\">\n",
       "      <th></th>\n",
       "      <th>Unnamed: 0</th>\n",
       "      <th>Age</th>\n",
       "      <th>City</th>\n",
       "      <th>Profession</th>\n",
       "      <th>Marital Status</th>\n",
       "      <th>Education</th>\n",
       "      <th>No. of Family members</th>\n",
       "      <th>Annual Income</th>\n",
       "      <th>Would you prefer replacing all your vehicles to Electronic vehicles?</th>\n",
       "      <th>If Yes/Maybe what type of  EV would you prefer?</th>\n",
       "      <th>Do you think Electronic Vehicles are economical?</th>\n",
       "      <th>Which brand of vehicle do you currently own?</th>\n",
       "      <th>How much money could you spend on an Electronic vehicle?</th>\n",
       "      <th>Preference for wheels in EV</th>\n",
       "      <th>Do you think Electronic vehicles will replace fuel cars in India?</th>\n",
       "    </tr>\n",
       "  </thead>\n",
       "  <tbody>\n",
       "    <tr>\n",
       "      <th>0</th>\n",
       "      <td>0</td>\n",
       "      <td>30</td>\n",
       "      <td>Nabha</td>\n",
       "      <td>None</td>\n",
       "      <td>Single</td>\n",
       "      <td>Graduate</td>\n",
       "      <td>5</td>\n",
       "      <td>1.193876e+06</td>\n",
       "      <td>Maybe</td>\n",
       "      <td>SUV</td>\n",
       "      <td>Yes</td>\n",
       "      <td>Hyundai</td>\n",
       "      <td>&lt;5 lakhs</td>\n",
       "      <td>2</td>\n",
       "      <td>I don't think so</td>\n",
       "    </tr>\n",
       "    <tr>\n",
       "      <th>1</th>\n",
       "      <td>1</td>\n",
       "      <td>27</td>\n",
       "      <td>Pune</td>\n",
       "      <td>None</td>\n",
       "      <td>Single</td>\n",
       "      <td>Graduate</td>\n",
       "      <td>4</td>\n",
       "      <td>1.844540e+06</td>\n",
       "      <td>Yes</td>\n",
       "      <td>SUV</td>\n",
       "      <td>Yes</td>\n",
       "      <td>Honda</td>\n",
       "      <td>&lt;15 lakhs</td>\n",
       "      <td>4</td>\n",
       "      <td>Yes, in &lt;20years</td>\n",
       "    </tr>\n",
       "    <tr>\n",
       "      <th>2</th>\n",
       "      <td>2</td>\n",
       "      <td>32</td>\n",
       "      <td>Kashipur</td>\n",
       "      <td>None</td>\n",
       "      <td>Single</td>\n",
       "      <td>Graduate</td>\n",
       "      <td>4</td>\n",
       "      <td>2.948150e+06</td>\n",
       "      <td>Yes</td>\n",
       "      <td>Hatchback</td>\n",
       "      <td>Yes</td>\n",
       "      <td>KIA</td>\n",
       "      <td>&lt;15 lakhs</td>\n",
       "      <td>4</td>\n",
       "      <td>Yes, in &lt;20years</td>\n",
       "    </tr>\n",
       "    <tr>\n",
       "      <th>3</th>\n",
       "      <td>3</td>\n",
       "      <td>55</td>\n",
       "      <td>Pune</td>\n",
       "      <td>Business</td>\n",
       "      <td>Single</td>\n",
       "      <td>Graduate</td>\n",
       "      <td>3</td>\n",
       "      <td>2.832380e+06</td>\n",
       "      <td>Maybe</td>\n",
       "      <td>Hatchback</td>\n",
       "      <td>No</td>\n",
       "      <td>Hyundai</td>\n",
       "      <td>&lt;5 lakhs</td>\n",
       "      <td>4</td>\n",
       "      <td>Yes, in &lt;10 years</td>\n",
       "    </tr>\n",
       "    <tr>\n",
       "      <th>4</th>\n",
       "      <td>4</td>\n",
       "      <td>26</td>\n",
       "      <td>Satara</td>\n",
       "      <td>None</td>\n",
       "      <td>Single</td>\n",
       "      <td>Graduate</td>\n",
       "      <td>4</td>\n",
       "      <td>2.638751e+06</td>\n",
       "      <td>Yes</td>\n",
       "      <td>Sedan</td>\n",
       "      <td>Yes</td>\n",
       "      <td>McLaren</td>\n",
       "      <td>&lt;15 lakhs</td>\n",
       "      <td>4</td>\n",
       "      <td>Yes, in &lt;20years</td>\n",
       "    </tr>\n",
       "  </tbody>\n",
       "</table>\n",
       "</div>"
      ],
      "text/plain": [
       "   Unnamed: 0  Age       City Profession Marital Status Education  \\\n",
       "0           0   30      Nabha       None         Single  Graduate   \n",
       "1           1   27       Pune       None         Single  Graduate   \n",
       "2           2   32  Kashipur        None         Single  Graduate   \n",
       "3           3   55       Pune   Business         Single  Graduate   \n",
       "4           4   26     Satara       None         Single  Graduate   \n",
       "\n",
       "   No. of Family members  Annual Income  \\\n",
       "0                      5   1.193876e+06   \n",
       "1                      4   1.844540e+06   \n",
       "2                      4   2.948150e+06   \n",
       "3                      3   2.832380e+06   \n",
       "4                      4   2.638751e+06   \n",
       "\n",
       "  Would you prefer replacing all your vehicles to Electronic vehicles?  \\\n",
       "0                                              Maybe                     \n",
       "1                                                Yes                     \n",
       "2                                                Yes                     \n",
       "3                                              Maybe                     \n",
       "4                                                Yes                     \n",
       "\n",
       "  If Yes/Maybe what type of  EV would you prefer?  \\\n",
       "0                                             SUV   \n",
       "1                                             SUV   \n",
       "2                                       Hatchback   \n",
       "3                                       Hatchback   \n",
       "4                                           Sedan   \n",
       "\n",
       "  Do you think Electronic Vehicles are economical?  \\\n",
       "0                                              Yes   \n",
       "1                                              Yes   \n",
       "2                                              Yes   \n",
       "3                                               No   \n",
       "4                                              Yes   \n",
       "\n",
       "  Which brand of vehicle do you currently own?  \\\n",
       "0                                      Hyundai   \n",
       "1                                        Honda   \n",
       "2                                          KIA   \n",
       "3                                      Hyundai   \n",
       "4                                     McLaren    \n",
       "\n",
       "  How much money could you spend on an Electronic vehicle?  \\\n",
       "0                                           <5 lakhs         \n",
       "1                                          <15 lakhs         \n",
       "2                                          <15 lakhs         \n",
       "3                                           <5 lakhs         \n",
       "4                                          <15 lakhs         \n",
       "\n",
       "   Preference for wheels in EV  \\\n",
       "0                            2   \n",
       "1                            4   \n",
       "2                            4   \n",
       "3                            4   \n",
       "4                            4   \n",
       "\n",
       "  Do you think Electronic vehicles will replace fuel cars in India?  \n",
       "0                                   I don't think so                 \n",
       "1                                   Yes, in <20years                 \n",
       "2                                   Yes, in <20years                 \n",
       "3                                  Yes, in <10 years                 \n",
       "4                                   Yes, in <20years                 "
      ]
     },
     "execution_count": 7,
     "metadata": {},
     "output_type": "execute_result"
    }
   ],
   "source": [
    "data.head()"
   ]
  },
  {
   "cell_type": "code",
   "execution_count": 8,
   "id": "591a410a",
   "metadata": {},
   "outputs": [
    {
     "data": {
      "text/plain": [
       "(1000, 15)"
      ]
     },
     "execution_count": 8,
     "metadata": {},
     "output_type": "execute_result"
    }
   ],
   "source": [
    "data.shape"
   ]
  },
  {
   "cell_type": "code",
   "execution_count": 9,
   "id": "675c3c3a",
   "metadata": {},
   "outputs": [
    {
     "name": "stdout",
     "output_type": "stream",
     "text": [
      "<class 'pandas.core.frame.DataFrame'>\n",
      "RangeIndex: 1000 entries, 0 to 999\n",
      "Data columns (total 15 columns):\n",
      " #   Column                                                                Non-Null Count  Dtype  \n",
      "---  ------                                                                --------------  -----  \n",
      " 0   Unnamed: 0                                                            1000 non-null   int64  \n",
      " 1   Age                                                                   1000 non-null   int64  \n",
      " 2   City                                                                  1000 non-null   object \n",
      " 3   Profession                                                            1000 non-null   object \n",
      " 4   Marital Status                                                        1000 non-null   object \n",
      " 5   Education                                                             1000 non-null   object \n",
      " 6   No. of Family members                                                 1000 non-null   int64  \n",
      " 7   Annual Income                                                         1000 non-null   float64\n",
      " 8   Would you prefer replacing all your vehicles to Electronic vehicles?  1000 non-null   object \n",
      " 9   If Yes/Maybe what type of  EV would you prefer?                       1000 non-null   object \n",
      " 10  Do you think Electronic Vehicles are economical?                      1000 non-null   object \n",
      " 11  Which brand of vehicle do you currently own?                          1000 non-null   object \n",
      " 12  How much money could you spend on an Electronic vehicle?              1000 non-null   object \n",
      " 13  Preference for wheels in EV                                           1000 non-null   int64  \n",
      " 14  Do you think Electronic vehicles will replace fuel cars in India?     1000 non-null   object \n",
      "dtypes: float64(1), int64(4), object(10)\n",
      "memory usage: 117.3+ KB\n"
     ]
    }
   ],
   "source": [
    "data.info()"
   ]
  },
  {
   "cell_type": "code",
   "execution_count": 10,
   "id": "e5a1d164",
   "metadata": {},
   "outputs": [
    {
     "data": {
      "text/html": [
       "<div>\n",
       "<style scoped>\n",
       "    .dataframe tbody tr th:only-of-type {\n",
       "        vertical-align: middle;\n",
       "    }\n",
       "\n",
       "    .dataframe tbody tr th {\n",
       "        vertical-align: top;\n",
       "    }\n",
       "\n",
       "    .dataframe thead th {\n",
       "        text-align: right;\n",
       "    }\n",
       "</style>\n",
       "<table border=\"1\" class=\"dataframe\">\n",
       "  <thead>\n",
       "    <tr style=\"text-align: right;\">\n",
       "      <th></th>\n",
       "      <th>Unnamed: 0</th>\n",
       "      <th>Age</th>\n",
       "      <th>No. of Family members</th>\n",
       "      <th>Annual Income</th>\n",
       "      <th>Preference for wheels in EV</th>\n",
       "    </tr>\n",
       "  </thead>\n",
       "  <tbody>\n",
       "    <tr>\n",
       "      <th>count</th>\n",
       "      <td>1000.000000</td>\n",
       "      <td>1000.000000</td>\n",
       "      <td>1000.000000</td>\n",
       "      <td>1.000000e+03</td>\n",
       "      <td>1000.000000</td>\n",
       "    </tr>\n",
       "    <tr>\n",
       "      <th>mean</th>\n",
       "      <td>499.500000</td>\n",
       "      <td>31.800000</td>\n",
       "      <td>4.118000</td>\n",
       "      <td>2.258342e+06</td>\n",
       "      <td>3.349000</td>\n",
       "    </tr>\n",
       "    <tr>\n",
       "      <th>std</th>\n",
       "      <td>288.819436</td>\n",
       "      <td>11.294847</td>\n",
       "      <td>1.469774</td>\n",
       "      <td>9.993558e+05</td>\n",
       "      <td>0.887686</td>\n",
       "    </tr>\n",
       "    <tr>\n",
       "      <th>min</th>\n",
       "      <td>0.000000</td>\n",
       "      <td>15.000000</td>\n",
       "      <td>0.000000</td>\n",
       "      <td>-3.761509e+05</td>\n",
       "      <td>2.000000</td>\n",
       "    </tr>\n",
       "    <tr>\n",
       "      <th>25%</th>\n",
       "      <td>249.750000</td>\n",
       "      <td>26.000000</td>\n",
       "      <td>4.000000</td>\n",
       "      <td>1.782116e+06</td>\n",
       "      <td>2.000000</td>\n",
       "    </tr>\n",
       "    <tr>\n",
       "      <th>50%</th>\n",
       "      <td>499.500000</td>\n",
       "      <td>29.000000</td>\n",
       "      <td>4.000000</td>\n",
       "      <td>2.329246e+06</td>\n",
       "      <td>4.000000</td>\n",
       "    </tr>\n",
       "    <tr>\n",
       "      <th>75%</th>\n",
       "      <td>749.250000</td>\n",
       "      <td>31.000000</td>\n",
       "      <td>5.000000</td>\n",
       "      <td>2.753170e+06</td>\n",
       "      <td>4.000000</td>\n",
       "    </tr>\n",
       "    <tr>\n",
       "      <th>max</th>\n",
       "      <td>999.000000</td>\n",
       "      <td>118.000000</td>\n",
       "      <td>8.000000</td>\n",
       "      <td>1.282128e+07</td>\n",
       "      <td>4.000000</td>\n",
       "    </tr>\n",
       "  </tbody>\n",
       "</table>\n",
       "</div>"
      ],
      "text/plain": [
       "        Unnamed: 0          Age  No. of Family members  Annual Income  \\\n",
       "count  1000.000000  1000.000000            1000.000000   1.000000e+03   \n",
       "mean    499.500000    31.800000               4.118000   2.258342e+06   \n",
       "std     288.819436    11.294847               1.469774   9.993558e+05   \n",
       "min       0.000000    15.000000               0.000000  -3.761509e+05   \n",
       "25%     249.750000    26.000000               4.000000   1.782116e+06   \n",
       "50%     499.500000    29.000000               4.000000   2.329246e+06   \n",
       "75%     749.250000    31.000000               5.000000   2.753170e+06   \n",
       "max     999.000000   118.000000               8.000000   1.282128e+07   \n",
       "\n",
       "       Preference for wheels in EV  \n",
       "count                  1000.000000  \n",
       "mean                      3.349000  \n",
       "std                       0.887686  \n",
       "min                       2.000000  \n",
       "25%                       2.000000  \n",
       "50%                       4.000000  \n",
       "75%                       4.000000  \n",
       "max                       4.000000  "
      ]
     },
     "execution_count": 10,
     "metadata": {},
     "output_type": "execute_result"
    }
   ],
   "source": [
    "data.describe()"
   ]
  },
  {
   "cell_type": "code",
   "execution_count": 11,
   "id": "83885ea9",
   "metadata": {},
   "outputs": [
    {
     "data": {
      "text/html": [
       "<div>\n",
       "<style scoped>\n",
       "    .dataframe tbody tr th:only-of-type {\n",
       "        vertical-align: middle;\n",
       "    }\n",
       "\n",
       "    .dataframe tbody tr th {\n",
       "        vertical-align: top;\n",
       "    }\n",
       "\n",
       "    .dataframe thead th {\n",
       "        text-align: right;\n",
       "    }\n",
       "</style>\n",
       "<table border=\"1\" class=\"dataframe\">\n",
       "  <thead>\n",
       "    <tr style=\"text-align: right;\">\n",
       "      <th></th>\n",
       "      <th>City</th>\n",
       "      <th>Profession</th>\n",
       "      <th>Marital Status</th>\n",
       "      <th>Education</th>\n",
       "      <th>Would you prefer replacing all your vehicles to Electronic vehicles?</th>\n",
       "      <th>If Yes/Maybe what type of  EV would you prefer?</th>\n",
       "      <th>Do you think Electronic Vehicles are economical?</th>\n",
       "      <th>Which brand of vehicle do you currently own?</th>\n",
       "      <th>How much money could you spend on an Electronic vehicle?</th>\n",
       "      <th>Do you think Electronic vehicles will replace fuel cars in India?</th>\n",
       "    </tr>\n",
       "  </thead>\n",
       "  <tbody>\n",
       "    <tr>\n",
       "      <th>count</th>\n",
       "      <td>1000</td>\n",
       "      <td>1000</td>\n",
       "      <td>1000</td>\n",
       "      <td>1000</td>\n",
       "      <td>1000</td>\n",
       "      <td>1000</td>\n",
       "      <td>1000</td>\n",
       "      <td>1000</td>\n",
       "      <td>1000</td>\n",
       "      <td>1000</td>\n",
       "    </tr>\n",
       "    <tr>\n",
       "      <th>unique</th>\n",
       "      <td>35</td>\n",
       "      <td>4</td>\n",
       "      <td>2</td>\n",
       "      <td>2</td>\n",
       "      <td>3</td>\n",
       "      <td>5</td>\n",
       "      <td>3</td>\n",
       "      <td>16</td>\n",
       "      <td>8</td>\n",
       "      <td>4</td>\n",
       "    </tr>\n",
       "    <tr>\n",
       "      <th>top</th>\n",
       "      <td>Pune</td>\n",
       "      <td>None</td>\n",
       "      <td>Single</td>\n",
       "      <td>Graduate</td>\n",
       "      <td>Yes</td>\n",
       "      <td>SUV</td>\n",
       "      <td>Yes</td>\n",
       "      <td>Tata</td>\n",
       "      <td>&lt;15 lakhs</td>\n",
       "      <td>Yes, in &lt;10 years</td>\n",
       "    </tr>\n",
       "    <tr>\n",
       "      <th>freq</th>\n",
       "      <td>570</td>\n",
       "      <td>460</td>\n",
       "      <td>638</td>\n",
       "      <td>693</td>\n",
       "      <td>663</td>\n",
       "      <td>467</td>\n",
       "      <td>768</td>\n",
       "      <td>186</td>\n",
       "      <td>483</td>\n",
       "      <td>419</td>\n",
       "    </tr>\n",
       "  </tbody>\n",
       "</table>\n",
       "</div>"
      ],
      "text/plain": [
       "        City Profession Marital Status Education  \\\n",
       "count   1000       1000           1000      1000   \n",
       "unique    35          4              2         2   \n",
       "top     Pune       None         Single  Graduate   \n",
       "freq     570        460            638       693   \n",
       "\n",
       "       Would you prefer replacing all your vehicles to Electronic vehicles?  \\\n",
       "count                                                1000                     \n",
       "unique                                                  3                     \n",
       "top                                                   Yes                     \n",
       "freq                                                  663                     \n",
       "\n",
       "       If Yes/Maybe what type of  EV would you prefer?  \\\n",
       "count                                             1000   \n",
       "unique                                               5   \n",
       "top                                                SUV   \n",
       "freq                                               467   \n",
       "\n",
       "       Do you think Electronic Vehicles are economical?  \\\n",
       "count                                              1000   \n",
       "unique                                                3   \n",
       "top                                                 Yes   \n",
       "freq                                                768   \n",
       "\n",
       "       Which brand of vehicle do you currently own?  \\\n",
       "count                                          1000   \n",
       "unique                                           16   \n",
       "top                                            Tata   \n",
       "freq                                            186   \n",
       "\n",
       "       How much money could you spend on an Electronic vehicle?  \\\n",
       "count                                                1000         \n",
       "unique                                                  8         \n",
       "top                                             <15 lakhs         \n",
       "freq                                                  483         \n",
       "\n",
       "       Do you think Electronic vehicles will replace fuel cars in India?  \n",
       "count                                                1000                 \n",
       "unique                                                  4                 \n",
       "top                                     Yes, in <10 years                 \n",
       "freq                                                  419                 "
      ]
     },
     "execution_count": 11,
     "metadata": {},
     "output_type": "execute_result"
    }
   ],
   "source": [
    "data.describe(include=\"object\")"
   ]
  },
  {
   "cell_type": "code",
   "execution_count": 12,
   "id": "8bfc9e2a",
   "metadata": {},
   "outputs": [
    {
     "data": {
      "text/plain": [
       "Index(['Unnamed: 0', 'Age', 'City', 'Profession', 'Marital Status',\n",
       "       'Education', 'No. of Family members', 'Annual Income',\n",
       "       'Would you prefer replacing all your vehicles to Electronic vehicles?',\n",
       "       'If Yes/Maybe what type of  EV would you prefer?',\n",
       "       'Do you think Electronic Vehicles are economical?',\n",
       "       'Which brand of vehicle do you currently own?',\n",
       "       'How much money could you spend on an Electronic vehicle?',\n",
       "       'Preference for wheels in EV',\n",
       "       'Do you think Electronic vehicles will replace fuel cars in India?'],\n",
       "      dtype='object')"
      ]
     },
     "execution_count": 12,
     "metadata": {},
     "output_type": "execute_result"
    }
   ],
   "source": [
    "data.columns"
   ]
  },
  {
   "cell_type": "code",
   "execution_count": 13,
   "id": "8bb18c55",
   "metadata": {},
   "outputs": [],
   "source": [
    "data=data.drop(\"Unnamed: 0\",axis=1)"
   ]
  },
  {
   "cell_type": "code",
   "execution_count": 14,
   "id": "df0cfdff",
   "metadata": {},
   "outputs": [
    {
     "data": {
      "text/html": [
       "<div>\n",
       "<style scoped>\n",
       "    .dataframe tbody tr th:only-of-type {\n",
       "        vertical-align: middle;\n",
       "    }\n",
       "\n",
       "    .dataframe tbody tr th {\n",
       "        vertical-align: top;\n",
       "    }\n",
       "\n",
       "    .dataframe thead th {\n",
       "        text-align: right;\n",
       "    }\n",
       "</style>\n",
       "<table border=\"1\" class=\"dataframe\">\n",
       "  <thead>\n",
       "    <tr style=\"text-align: right;\">\n",
       "      <th></th>\n",
       "      <th>Age</th>\n",
       "      <th>City</th>\n",
       "      <th>Profession</th>\n",
       "      <th>Marital Status</th>\n",
       "      <th>Education</th>\n",
       "      <th>No. of Family members</th>\n",
       "      <th>Annual Income</th>\n",
       "      <th>Would you prefer replacing all your vehicles to Electronic vehicles?</th>\n",
       "      <th>If Yes/Maybe what type of  EV would you prefer?</th>\n",
       "      <th>Do you think Electronic Vehicles are economical?</th>\n",
       "      <th>Which brand of vehicle do you currently own?</th>\n",
       "      <th>How much money could you spend on an Electronic vehicle?</th>\n",
       "      <th>Preference for wheels in EV</th>\n",
       "      <th>Do you think Electronic vehicles will replace fuel cars in India?</th>\n",
       "    </tr>\n",
       "  </thead>\n",
       "  <tbody>\n",
       "    <tr>\n",
       "      <th>0</th>\n",
       "      <td>30</td>\n",
       "      <td>Nabha</td>\n",
       "      <td>None</td>\n",
       "      <td>Single</td>\n",
       "      <td>Graduate</td>\n",
       "      <td>5</td>\n",
       "      <td>1.193876e+06</td>\n",
       "      <td>Maybe</td>\n",
       "      <td>SUV</td>\n",
       "      <td>Yes</td>\n",
       "      <td>Hyundai</td>\n",
       "      <td>&lt;5 lakhs</td>\n",
       "      <td>2</td>\n",
       "      <td>I don't think so</td>\n",
       "    </tr>\n",
       "    <tr>\n",
       "      <th>1</th>\n",
       "      <td>27</td>\n",
       "      <td>Pune</td>\n",
       "      <td>None</td>\n",
       "      <td>Single</td>\n",
       "      <td>Graduate</td>\n",
       "      <td>4</td>\n",
       "      <td>1.844540e+06</td>\n",
       "      <td>Yes</td>\n",
       "      <td>SUV</td>\n",
       "      <td>Yes</td>\n",
       "      <td>Honda</td>\n",
       "      <td>&lt;15 lakhs</td>\n",
       "      <td>4</td>\n",
       "      <td>Yes, in &lt;20years</td>\n",
       "    </tr>\n",
       "    <tr>\n",
       "      <th>2</th>\n",
       "      <td>32</td>\n",
       "      <td>Kashipur</td>\n",
       "      <td>None</td>\n",
       "      <td>Single</td>\n",
       "      <td>Graduate</td>\n",
       "      <td>4</td>\n",
       "      <td>2.948150e+06</td>\n",
       "      <td>Yes</td>\n",
       "      <td>Hatchback</td>\n",
       "      <td>Yes</td>\n",
       "      <td>KIA</td>\n",
       "      <td>&lt;15 lakhs</td>\n",
       "      <td>4</td>\n",
       "      <td>Yes, in &lt;20years</td>\n",
       "    </tr>\n",
       "    <tr>\n",
       "      <th>3</th>\n",
       "      <td>55</td>\n",
       "      <td>Pune</td>\n",
       "      <td>Business</td>\n",
       "      <td>Single</td>\n",
       "      <td>Graduate</td>\n",
       "      <td>3</td>\n",
       "      <td>2.832380e+06</td>\n",
       "      <td>Maybe</td>\n",
       "      <td>Hatchback</td>\n",
       "      <td>No</td>\n",
       "      <td>Hyundai</td>\n",
       "      <td>&lt;5 lakhs</td>\n",
       "      <td>4</td>\n",
       "      <td>Yes, in &lt;10 years</td>\n",
       "    </tr>\n",
       "    <tr>\n",
       "      <th>4</th>\n",
       "      <td>26</td>\n",
       "      <td>Satara</td>\n",
       "      <td>None</td>\n",
       "      <td>Single</td>\n",
       "      <td>Graduate</td>\n",
       "      <td>4</td>\n",
       "      <td>2.638751e+06</td>\n",
       "      <td>Yes</td>\n",
       "      <td>Sedan</td>\n",
       "      <td>Yes</td>\n",
       "      <td>McLaren</td>\n",
       "      <td>&lt;15 lakhs</td>\n",
       "      <td>4</td>\n",
       "      <td>Yes, in &lt;20years</td>\n",
       "    </tr>\n",
       "  </tbody>\n",
       "</table>\n",
       "</div>"
      ],
      "text/plain": [
       "   Age       City Profession Marital Status Education  No. of Family members  \\\n",
       "0   30      Nabha       None         Single  Graduate                      5   \n",
       "1   27       Pune       None         Single  Graduate                      4   \n",
       "2   32  Kashipur        None         Single  Graduate                      4   \n",
       "3   55       Pune   Business         Single  Graduate                      3   \n",
       "4   26     Satara       None         Single  Graduate                      4   \n",
       "\n",
       "   Annual Income  \\\n",
       "0   1.193876e+06   \n",
       "1   1.844540e+06   \n",
       "2   2.948150e+06   \n",
       "3   2.832380e+06   \n",
       "4   2.638751e+06   \n",
       "\n",
       "  Would you prefer replacing all your vehicles to Electronic vehicles?  \\\n",
       "0                                              Maybe                     \n",
       "1                                                Yes                     \n",
       "2                                                Yes                     \n",
       "3                                              Maybe                     \n",
       "4                                                Yes                     \n",
       "\n",
       "  If Yes/Maybe what type of  EV would you prefer?  \\\n",
       "0                                             SUV   \n",
       "1                                             SUV   \n",
       "2                                       Hatchback   \n",
       "3                                       Hatchback   \n",
       "4                                           Sedan   \n",
       "\n",
       "  Do you think Electronic Vehicles are economical?  \\\n",
       "0                                              Yes   \n",
       "1                                              Yes   \n",
       "2                                              Yes   \n",
       "3                                               No   \n",
       "4                                              Yes   \n",
       "\n",
       "  Which brand of vehicle do you currently own?  \\\n",
       "0                                      Hyundai   \n",
       "1                                        Honda   \n",
       "2                                          KIA   \n",
       "3                                      Hyundai   \n",
       "4                                     McLaren    \n",
       "\n",
       "  How much money could you spend on an Electronic vehicle?  \\\n",
       "0                                           <5 lakhs         \n",
       "1                                          <15 lakhs         \n",
       "2                                          <15 lakhs         \n",
       "3                                           <5 lakhs         \n",
       "4                                          <15 lakhs         \n",
       "\n",
       "   Preference for wheels in EV  \\\n",
       "0                            2   \n",
       "1                            4   \n",
       "2                            4   \n",
       "3                            4   \n",
       "4                            4   \n",
       "\n",
       "  Do you think Electronic vehicles will replace fuel cars in India?  \n",
       "0                                   I don't think so                 \n",
       "1                                   Yes, in <20years                 \n",
       "2                                   Yes, in <20years                 \n",
       "3                                  Yes, in <10 years                 \n",
       "4                                   Yes, in <20years                 "
      ]
     },
     "execution_count": 14,
     "metadata": {},
     "output_type": "execute_result"
    }
   ],
   "source": [
    "data.head()"
   ]
  },
  {
   "cell_type": "markdown",
   "id": "614841b4",
   "metadata": {},
   "source": [
    "# Checking for missing values "
   ]
  },
  {
   "cell_type": "code",
   "execution_count": 15,
   "id": "fae31fff",
   "metadata": {},
   "outputs": [
    {
     "data": {
      "text/plain": [
       "<AxesSubplot:>"
      ]
     },
     "execution_count": 15,
     "metadata": {},
     "output_type": "execute_result"
    },
    {
     "data": {
      "image/png": "[encoded data removed]",
      "text/plain": [
       "<Figure size 1800x720 with 3 Axes>"
      ]
     },
     "metadata": {
      "needs_background": "light"
     },
     "output_type": "display_data"
    }
   ],
   "source": [
    "import missingno as msno\n",
    "msno.bar(data,color=\"purple\")"
   ]
  },
  {
   "cell_type": "code",
   "execution_count": 16,
   "id": "886d73d2",
   "metadata": {},
   "outputs": [
    {
     "data": {
      "text/plain": [
       "Age                                                                     0\n",
       "City                                                                    0\n",
       "Profession                                                              0\n",
       "Marital Status                                                          0\n",
       "Education                                                               0\n",
       "No. of Family members                                                   0\n",
       "Annual Income                                                           0\n",
       "Would you prefer replacing all your vehicles to Electronic vehicles?    0\n",
       "If Yes/Maybe what type of  EV would you prefer?                         0\n",
       "Do you think Electronic Vehicles are economical?                        0\n",
       "Which brand of vehicle do you currently own?                            0\n",
       "How much money could you spend on an Electronic vehicle?                0\n",
       "Preference for wheels in EV                                             0\n",
       "Do you think Electronic vehicles will replace fuel cars in India?       0\n",
       "dtype: int64"
      ]
     },
     "execution_count": 16,
     "metadata": {},
     "output_type": "execute_result"
    }
   ],
   "source": [
    "data.isnull().sum()"
   ]
  },
  {
   "cell_type": "markdown",
   "id": "c039cb3f",
   "metadata": {},
   "source": [
    "# Data Visualisation"
   ]
  },
  {
   "cell_type": "code",
   "execution_count": 17,
   "id": "f06e72ca",
   "metadata": {},
   "outputs": [
    {
     "data": {
      "text/plain": [
       "<AxesSubplot:xlabel='Age', ylabel='Density'>"
      ]
     },
     "execution_count": 17,
     "metadata": {},
     "output_type": "execute_result"
    },
    {
     "data": {
      "image/png": "[encoded data removed]",
      "text/plain": [
       "<Figure size 432x432 with 1 Axes>"
      ]
     },
     "metadata": {
      "needs_background": "light"
     },
     "output_type": "display_data"
    }
   ],
   "source": [
    "plt.figure(figsize=(6,6))\n",
    "sns.distplot(data[\"Age\"])"
   ]
  },
  {
   "cell_type": "code",
   "execution_count": 18,
   "id": "721baa87",
   "metadata": {},
   "outputs": [
    {
     "data": {
      "text/plain": [
       "<AxesSubplot:ylabel='Profession'>"
      ]
     },
     "execution_count": 18,
     "metadata": {},
     "output_type": "execute_result"
    },
    {
     "data": {
      "image/png": "[encoded data removed]",
      "text/plain": [
       "<Figure size 432x432 with 1 Axes>"
      ]
     },
     "metadata": {},
     "output_type": "display_data"
    }
   ],
   "source": [
    "plt.figure(figsize=(6,6))\n",
    "data[\"Profession\"].value_counts().plot(kind=\"pie\",autopct=\"%0.1f%%\")"
   ]
  },
  {
   "cell_type": "code",
   "execution_count": 19,
   "id": "3100b731",
   "metadata": {},
   "outputs": [
    {
     "data": {
      "text/plain": [
       "<AxesSubplot:xlabel='Marital Status', ylabel='count'>"
      ]
     },
     "execution_count": 19,
     "metadata": {},
     "output_type": "execute_result"
    },
    {
     "data": {
      "image/png": "[encoded data removed]",
      "text/plain": [
       "<Figure size 432x288 with 1 Axes>"
      ]
     },
     "metadata": {
      "needs_background": "light"
     },
     "output_type": "display_data"
    }
   ],
   "source": [
    "sns.countplot(data[\"Marital Status\"])"
   ]
  },
  {
   "cell_type": "code",
   "execution_count": 20,
   "id": "a0185ae6",
   "metadata": {},
   "outputs": [
    {
     "data": {
      "text/plain": [
       "array(['Nabha', 'Pune', 'Kashipur ', 'Satara', 'Noida', 'Delhi', 'Mumbai',\n",
       "       'pune', 'solapur', 'Haldwani ', 'Nellore ', 'Pune ', 'Haldwani',\n",
       "       'Banglore ', 'Faridabad ', 'Nagpur', 'Chandrapur ', 'Chennai',\n",
       "       'Gurugram ', 'Nashik', 'Bengaluru', 'Mumbai ', 'Hakdwani',\n",
       "       'Patiyala', 'pUNE', 'Ahmedabad', 'Karnal', 'Rewari', 'New Delhi',\n",
       "       'Serampore', 'Jhansi', 'New Delhi ', 'Jalandhar', 'Delhi ',\n",
       "       'nashik'], dtype=object)"
      ]
     },
     "execution_count": 20,
     "metadata": {},
     "output_type": "execute_result"
    }
   ],
   "source": [
    "data[\"City\"].unique()"
   ]
  },
  {
   "cell_type": "code",
   "execution_count": 21,
   "id": "abe0cbeb",
   "metadata": {},
   "outputs": [],
   "source": [
    "data[\"City\"]=data[\"City\"].replace({\"Pune \":\"Pune\",\"pUNE\":\"Pune\",\"pune\":\"Pune\",\"Pune\":\"Pune\"})\n",
    "data[\"City\"]=data[\"City\"].replace({\"Banglore \":\"Bengaluru\"})\n",
    "data[\"City\"]=data[\"City\"].replace({\"Hakdwani\":\"Haldwani\",\"Haldwani \":\"Haldwani\"})\n",
    "data[\"City\"]=data[\"City\"].replace({\"New Delhi \":\"Delhi\",\"Delhi \":\"Delhi\"})\n",
    "data[\"City\"]=data[\"City\"].replace({\"nashik\":\"Nashik\"})\n",
    "data[\"City\"]=data[\"City\"].replace({\"Mumbai \":\"Mumbai\"})"
   ]
  },
  {
   "cell_type": "code",
   "execution_count": 22,
   "id": "fd67586b",
   "metadata": {},
   "outputs": [
    {
     "data": {
      "text/plain": [
       "array(['Nabha', 'Pune', 'Kashipur ', 'Satara', 'Noida', 'Delhi', 'Mumbai',\n",
       "       'solapur', 'Haldwani', 'Nellore ', 'Bengaluru', 'Faridabad ',\n",
       "       'Nagpur', 'Chandrapur ', 'Chennai', 'Gurugram ', 'Nashik',\n",
       "       'Patiyala', 'Ahmedabad', 'Karnal', 'Rewari', 'New Delhi',\n",
       "       'Serampore', 'Jhansi', 'Jalandhar'], dtype=object)"
      ]
     },
     "execution_count": 22,
     "metadata": {},
     "output_type": "execute_result"
    }
   ],
   "source": [
    "data[\"City\"].unique()"
   ]
  },
  {
   "cell_type": "code",
   "execution_count": 23,
   "id": "3110c6dd",
   "metadata": {},
   "outputs": [
    {
     "data": {
      "text/plain": [
       "<AxesSubplot:xlabel='City', ylabel='count'>"
      ]
     },
     "execution_count": 23,
     "metadata": {},
     "output_type": "execute_result"
    },
    {
     "data": {
      "image/png": "[encoded data removed]",
      "text/plain": [
       "<Figure size 432x288 with 1 Axes>"
      ]
     },
     "metadata": {
      "needs_background": "light"
     },
     "output_type": "display_data"
    }
   ],
   "source": [
    "sns.countplot(x=\"City\",data=data,order=data.City.value_counts().iloc[:5].index)"
   ]
  },
  {
   "cell_type": "code",
   "execution_count": 24,
   "id": "e482c20a",
   "metadata": {},
   "outputs": [
    {
     "data": {
      "text/plain": [
       "<AxesSubplot:xlabel='No. of Family members', ylabel='count'>"
      ]
     },
     "execution_count": 24,
     "metadata": {},
     "output_type": "execute_result"
    },
    {
     "data": {
      "image/png": "[encoded data removed]",
      "text/plain": [
       "<Figure size 504x504 with 1 Axes>"
      ]
     },
     "metadata": {
      "needs_background": "light"
     },
     "output_type": "display_data"
    }
   ],
   "source": [
    "plt.figure(figsize=(7,7))\n",
    "sns.countplot(data[\"No. of Family members\"])"
   ]
  },
  {
   "cell_type": "code",
   "execution_count": 25,
   "id": "bf06562f",
   "metadata": {},
   "outputs": [
    {
     "data": {
      "text/plain": [
       "<AxesSubplot:xlabel='Annual Income', ylabel='Count'>"
      ]
     },
     "execution_count": 25,
     "metadata": {},
     "output_type": "execute_result"
    },
    {
     "data": {
      "image/png": "[encoded data removed]",
      "text/plain": [
       "<Figure size 432x432 with 1 Axes>"
      ]
     },
     "metadata": {
      "needs_background": "light"
     },
     "output_type": "display_data"
    }
   ],
   "source": [
    "plt.figure(figsize=(6,6))\n",
    "sns.histplot(data[\"Annual Income\"],color=\"blue\")"
   ]
  },
  {
   "cell_type": "code",
   "execution_count": 26,
   "id": "0280ade0",
   "metadata": {},
   "outputs": [
    {
     "data": {
      "text/plain": [
       "<AxesSubplot:xlabel='Education', ylabel='count'>"
      ]
     },
     "execution_count": 26,
     "metadata": {},
     "output_type": "execute_result"
    },
    {
     "data": {
      "image/png": "[encoded data removed]",
      "text/plain": [
       "<Figure size 432x288 with 1 Axes>"
      ]
     },
     "metadata": {
      "needs_background": "light"
     },
     "output_type": "display_data"
    }
   ],
   "source": [
    "sns.countplot(data[\"Education\"])"
   ]
  },
  {
   "cell_type": "code",
   "execution_count": 27,
   "id": "cf05983c",
   "metadata": {},
   "outputs": [
    {
     "data": {
      "text/plain": [
       "<AxesSubplot:>"
      ]
     },
     "execution_count": 27,
     "metadata": {},
     "output_type": "execute_result"
    },
    {
     "data": {
      "image/png": "[encoded data removed]",
      "text/plain": [
       "<Figure size 432x288 with 1 Axes>"
      ]
     },
     "metadata": {
      "needs_background": "light"
     },
     "output_type": "display_data"
    }
   ],
   "source": [
    "data[\"Do you think Electronic Vehicles are economical?\"].value_counts().plot(kind=\"bar\",color=\"green\")"
   ]
  },
  {
   "cell_type": "code",
   "execution_count": 28,
   "id": "76b59e65",
   "metadata": {},
   "outputs": [
    {
     "data": {
      "text/plain": [
       "<AxesSubplot:>"
      ]
     },
     "execution_count": 28,
     "metadata": {},
     "output_type": "execute_result"
    },
    {
     "data": {
      "image/png": "[encoded data removed]",
      "text/plain": [
       "<Figure size 432x288 with 1 Axes>"
      ]
     },
     "metadata": {
      "needs_background": "light"
     },
     "output_type": "display_data"
    }
   ],
   "source": [
    "data[\"Preference for wheels in EV\"].value_counts().plot(kind=\"bar\")"
   ]
  },
  {
   "cell_type": "code",
   "execution_count": 29,
   "id": "9eae29fe",
   "metadata": {},
   "outputs": [
    {
     "data": {
      "text/plain": [
       "<AxesSubplot:xlabel='How much money could you spend on an Electronic vehicle?', ylabel='count'>"
      ]
     },
     "execution_count": 29,
     "metadata": {},
     "output_type": "execute_result"
    },
    {
     "data": {
      "image/png": "[encoded data removed]",
      "text/plain": [
       "<Figure size 576x576 with 1 Axes>"
      ]
     },
     "metadata": {
      "needs_background": "light"
     },
     "output_type": "display_data"
    }
   ],
   "source": [
    "plt.figure(figsize=(8,8))\n",
    "sns.countplot(data[\"How much money could you spend on an Electronic vehicle?\"])"
   ]
  },
  {
   "cell_type": "code",
   "execution_count": 30,
   "id": "dc54bb3c",
   "metadata": {},
   "outputs": [
    {
     "data": {
      "text/plain": [
       "<AxesSubplot:>"
      ]
     },
     "execution_count": 30,
     "metadata": {},
     "output_type": "execute_result"
    },
    {
     "data": {
      "image/png": "[encoded data removed]",
      "text/plain": [
       "<Figure size 504x504 with 1 Axes>"
      ]
     },
     "metadata": {
      "needs_background": "light"
     },
     "output_type": "display_data"
    }
   ],
   "source": [
    "plt.figure(figsize=(7,7))\n",
    "data[\"Which brand of vehicle do you currently own?\"].value_counts().plot(kind=\"bar\")"
   ]
  },
  {
   "cell_type": "code",
   "execution_count": 31,
   "id": "99f1946f",
   "metadata": {},
   "outputs": [
    {
     "data": {
      "text/plain": [
       "<AxesSubplot:xlabel='Age', ylabel='count'>"
      ]
     },
     "execution_count": 31,
     "metadata": {},
     "output_type": "execute_result"
    },
    {
     "data": {
      "image/png": "[encoded data removed]",
      "text/plain": [
       "<Figure size 1296x504 with 1 Axes>"
      ]
     },
     "metadata": {
      "needs_background": "light"
     },
     "output_type": "display_data"
    }
   ],
   "source": [
    "plt.figure(figsize=(18,7))\n",
    "sns.countplot(x=\"Age\",data=data,hue=\"Education\")"
   ]
  },
  {
   "cell_type": "code",
   "execution_count": 32,
   "id": "3a8757db",
   "metadata": {},
   "outputs": [
    {
     "data": {
      "text/plain": [
       "<AxesSubplot:xlabel='Education', ylabel='count'>"
      ]
     },
     "execution_count": 32,
     "metadata": {},
     "output_type": "execute_result"
    },
    {
     "data": {
      "image/png": "[encoded data removed]",
      "text/plain": [
       "<Figure size 432x288 with 1 Axes>"
      ]
     },
     "metadata": {
      "needs_background": "light"
     },
     "output_type": "display_data"
    }
   ],
   "source": [
    "sns.countplot(x=\"Education\",data=data,hue=\"Do you think Electronic Vehicles are economical?\")"
   ]
  },
  {
   "cell_type": "code",
   "execution_count": 33,
   "id": "d39edd21",
   "metadata": {},
   "outputs": [
    {
     "data": {
      "text/plain": [
       "<AxesSubplot:xlabel='No. of Family members', ylabel='count'>"
      ]
     },
     "execution_count": 33,
     "metadata": {},
     "output_type": "execute_result"
    },
    {
     "data": {
      "image/png": "[encoded data removed]",
      "text/plain": [
       "<Figure size 1080x432 with 1 Axes>"
      ]
     },
     "metadata": {
      "needs_background": "light"
     },
     "output_type": "display_data"
    }
   ],
   "source": [
    "plt.figure(figsize=(15,6))\n",
    "sns.countplot(x=\"No. of Family members\",data=data,hue=\"Do you think Electronic Vehicles are economical?\")"
   ]
  },
  {
   "cell_type": "code",
   "execution_count": 34,
   "id": "fe1e9a0a",
   "metadata": {},
   "outputs": [
    {
     "data": {
      "text/plain": [
       "<AxesSubplot:xlabel='No. of Family members', ylabel='count'>"
      ]
     },
     "execution_count": 34,
     "metadata": {},
     "output_type": "execute_result"
    },
    {
     "data": {
      "image/png": "[encoded data removed]",
      "text/plain": [
       "<Figure size 936x432 with 1 Axes>"
      ]
     },
     "metadata": {
      "needs_background": "light"
     },
     "output_type": "display_data"
    }
   ],
   "source": [
    "plt.figure(figsize=(13,6))\n",
    "sns.countplot(x=\"No. of Family members\",data=data,hue=\"Preference for wheels in EV\")"
   ]
  },
  {
   "cell_type": "code",
   "execution_count": 35,
   "id": "e15164f6",
   "metadata": {},
   "outputs": [
    {
     "data": {
      "text/plain": [
       "<AxesSubplot:xlabel='Which brand of vehicle do you currently own?', ylabel='count'>"
      ]
     },
     "execution_count": 35,
     "metadata": {},
     "output_type": "execute_result"
    },
    {
     "data": {
      "image/png": "[encoded data removed]",
      "text/plain": [
       "<Figure size 1080x432 with 1 Axes>"
      ]
     },
     "metadata": {
      "needs_background": "light"
     },
     "output_type": "display_data"
    }
   ],
   "source": [
    "plt.figure(figsize=(15,6))\n",
    "sns.countplot(x=\"Which brand of vehicle do you currently own?\",data=data,hue=\"Profession\")"
   ]
  },
  {
   "cell_type": "markdown",
   "id": "0911953d",
   "metadata": {},
   "source": [
    "# Correlation"
   ]
  },
  {
   "cell_type": "code",
   "execution_count": 36,
   "id": "e1e99d20",
   "metadata": {},
   "outputs": [
    {
     "data": {
      "text/plain": [
       "<AxesSubplot:>"
      ]
     },
     "execution_count": 36,
     "metadata": {},
     "output_type": "execute_result"
    },
    {
     "data": {
      "image/png": "[encoded data removed]",
      "text/plain": [
       "<Figure size 432x288 with 2 Axes>"
      ]
     },
     "metadata": {
      "needs_background": "light"
     },
     "output_type": "display_data"
    }
   ],
   "source": [
    "corr_matrix=data.corr()\n",
    "sns.heatmap(corr_matrix,annot = True, cmap= \"Spectral\")"
   ]
  },
  {
   "cell_type": "markdown",
   "id": "d1e9899d",
   "metadata": {},
   "source": [
    "# Label Encoding"
   ]
  },
  {
   "cell_type": "code",
   "execution_count": 37,
   "id": "4ed61a6e",
   "metadata": {},
   "outputs": [],
   "source": [
    "from sklearn.preprocessing import LabelEncoder\n",
    "def label_encoder(data,column):\n",
    "    label_encoder=LabelEncoder()\n",
    "    return label_encoder.fit_transform(data[column].astype(str))"
   ]
  },
  {
   "cell_type": "code",
   "execution_count": 38,
   "id": "45f4056d",
   "metadata": {},
   "outputs": [
    {
     "data": {
      "text/html": [
       "<div>\n",
       "<style scoped>\n",
       "    .dataframe tbody tr th:only-of-type {\n",
       "        vertical-align: middle;\n",
       "    }\n",
       "\n",
       "    .dataframe tbody tr th {\n",
       "        vertical-align: top;\n",
       "    }\n",
       "\n",
       "    .dataframe thead th {\n",
       "        text-align: right;\n",
       "    }\n",
       "</style>\n",
       "<table border=\"1\" class=\"dataframe\">\n",
       "  <thead>\n",
       "    <tr style=\"text-align: right;\">\n",
       "      <th></th>\n",
       "      <th>Age</th>\n",
       "      <th>City</th>\n",
       "      <th>Profession</th>\n",
       "      <th>Marital Status</th>\n",
       "      <th>Education</th>\n",
       "      <th>No. of Family members</th>\n",
       "      <th>Annual Income</th>\n",
       "      <th>Would you prefer replacing all your vehicles to Electronic vehicles?</th>\n",
       "      <th>If Yes/Maybe what type of  EV would you prefer?</th>\n",
       "      <th>Do you think Electronic Vehicles are economical?</th>\n",
       "      <th>Which brand of vehicle do you currently own?</th>\n",
       "      <th>How much money could you spend on an Electronic vehicle?</th>\n",
       "      <th>Preference for wheels in EV</th>\n",
       "      <th>Do you think Electronic vehicles will replace fuel cars in India?</th>\n",
       "    </tr>\n",
       "  </thead>\n",
       "  <tbody>\n",
       "    <tr>\n",
       "      <th>0</th>\n",
       "      <td>30</td>\n",
       "      <td>Nabha</td>\n",
       "      <td>None</td>\n",
       "      <td>Single</td>\n",
       "      <td>Graduate</td>\n",
       "      <td>5</td>\n",
       "      <td>1.193876e+06</td>\n",
       "      <td>Maybe</td>\n",
       "      <td>SUV</td>\n",
       "      <td>Yes</td>\n",
       "      <td>Hyundai</td>\n",
       "      <td>&lt;5 lakhs</td>\n",
       "      <td>2</td>\n",
       "      <td>I don't think so</td>\n",
       "    </tr>\n",
       "    <tr>\n",
       "      <th>1</th>\n",
       "      <td>27</td>\n",
       "      <td>Pune</td>\n",
       "      <td>None</td>\n",
       "      <td>Single</td>\n",
       "      <td>Graduate</td>\n",
       "      <td>4</td>\n",
       "      <td>1.844540e+06</td>\n",
       "      <td>Yes</td>\n",
       "      <td>SUV</td>\n",
       "      <td>Yes</td>\n",
       "      <td>Honda</td>\n",
       "      <td>&lt;15 lakhs</td>\n",
       "      <td>4</td>\n",
       "      <td>Yes, in &lt;20years</td>\n",
       "    </tr>\n",
       "    <tr>\n",
       "      <th>2</th>\n",
       "      <td>32</td>\n",
       "      <td>Kashipur</td>\n",
       "      <td>None</td>\n",
       "      <td>Single</td>\n",
       "      <td>Graduate</td>\n",
       "      <td>4</td>\n",
       "      <td>2.948150e+06</td>\n",
       "      <td>Yes</td>\n",
       "      <td>Hatchback</td>\n",
       "      <td>Yes</td>\n",
       "      <td>KIA</td>\n",
       "      <td>&lt;15 lakhs</td>\n",
       "      <td>4</td>\n",
       "      <td>Yes, in &lt;20years</td>\n",
       "    </tr>\n",
       "    <tr>\n",
       "      <th>3</th>\n",
       "      <td>55</td>\n",
       "      <td>Pune</td>\n",
       "      <td>Business</td>\n",
       "      <td>Single</td>\n",
       "      <td>Graduate</td>\n",
       "      <td>3</td>\n",
       "      <td>2.832380e+06</td>\n",
       "      <td>Maybe</td>\n",
       "      <td>Hatchback</td>\n",
       "      <td>No</td>\n",
       "      <td>Hyundai</td>\n",
       "      <td>&lt;5 lakhs</td>\n",
       "      <td>4</td>\n",
       "      <td>Yes, in &lt;10 years</td>\n",
       "    </tr>\n",
       "    <tr>\n",
       "      <th>4</th>\n",
       "      <td>26</td>\n",
       "      <td>Satara</td>\n",
       "      <td>None</td>\n",
       "      <td>Single</td>\n",
       "      <td>Graduate</td>\n",
       "      <td>4</td>\n",
       "      <td>2.638751e+06</td>\n",
       "      <td>Yes</td>\n",
       "      <td>Sedan</td>\n",
       "      <td>Yes</td>\n",
       "      <td>McLaren</td>\n",
       "      <td>&lt;15 lakhs</td>\n",
       "      <td>4</td>\n",
       "      <td>Yes, in &lt;20years</td>\n",
       "    </tr>\n",
       "  </tbody>\n",
       "</table>\n",
       "</div>"
      ],
      "text/plain": [
       "   Age       City Profession Marital Status Education  No. of Family members  \\\n",
       "0   30      Nabha       None         Single  Graduate                      5   \n",
       "1   27       Pune       None         Single  Graduate                      4   \n",
       "2   32  Kashipur        None         Single  Graduate                      4   \n",
       "3   55       Pune   Business         Single  Graduate                      3   \n",
       "4   26     Satara       None         Single  Graduate                      4   \n",
       "\n",
       "   Annual Income  \\\n",
       "0   1.193876e+06   \n",
       "1   1.844540e+06   \n",
       "2   2.948150e+06   \n",
       "3   2.832380e+06   \n",
       "4   2.638751e+06   \n",
       "\n",
       "  Would you prefer replacing all your vehicles to Electronic vehicles?  \\\n",
       "0                                              Maybe                     \n",
       "1                                                Yes                     \n",
       "2                                                Yes                     \n",
       "3                                              Maybe                     \n",
       "4                                                Yes                     \n",
       "\n",
       "  If Yes/Maybe what type of  EV would you prefer?  \\\n",
       "0                                             SUV   \n",
       "1                                             SUV   \n",
       "2                                       Hatchback   \n",
       "3                                       Hatchback   \n",
       "4                                           Sedan   \n",
       "\n",
       "  Do you think Electronic Vehicles are economical?  \\\n",
       "0                                              Yes   \n",
       "1                                              Yes   \n",
       "2                                              Yes   \n",
       "3                                               No   \n",
       "4                                              Yes   \n",
       "\n",
       "  Which brand of vehicle do you currently own?  \\\n",
       "0                                      Hyundai   \n",
       "1                                        Honda   \n",
       "2                                          KIA   \n",
       "3                                      Hyundai   \n",
       "4                                     McLaren    \n",
       "\n",
       "  How much money could you spend on an Electronic vehicle?  \\\n",
       "0                                           <5 lakhs         \n",
       "1                                          <15 lakhs         \n",
       "2                                          <15 lakhs         \n",
       "3                                           <5 lakhs         \n",
       "4                                          <15 lakhs         \n",
       "\n",
       "   Preference for wheels in EV  \\\n",
       "0                            2   \n",
       "1                            4   \n",
       "2                            4   \n",
       "3                            4   \n",
       "4                            4   \n",
       "\n",
       "  Do you think Electronic vehicles will replace fuel cars in India?  \n",
       "0                                   I don't think so                 \n",
       "1                                   Yes, in <20years                 \n",
       "2                                   Yes, in <20years                 \n",
       "3                                  Yes, in <10 years                 \n",
       "4                                   Yes, in <20years                 "
      ]
     },
     "execution_count": 38,
     "metadata": {},
     "output_type": "execute_result"
    }
   ],
   "source": [
    "data.head()"
   ]
  },
  {
   "cell_type": "code",
   "execution_count": 39,
   "id": "ee6c8b93",
   "metadata": {},
   "outputs": [],
   "source": [
    "data['City']= label_encoder(data,'City')\n",
    "data['Profession']= label_encoder(data,'Profession')\n",
    "data['Marital Status']= label_encoder(data,'Marital Status')\n",
    "data['Education']= label_encoder(data,'Education')"
   ]
  },
  {
   "cell_type": "code",
   "execution_count": 40,
   "id": "368cea21",
   "metadata": {},
   "outputs": [
    {
     "data": {
      "text/html": [
       "<div>\n",
       "<style scoped>\n",
       "    .dataframe tbody tr th:only-of-type {\n",
       "        vertical-align: middle;\n",
       "    }\n",
       "\n",
       "    .dataframe tbody tr th {\n",
       "        vertical-align: top;\n",
       "    }\n",
       "\n",
       "    .dataframe thead th {\n",
       "        text-align: right;\n",
       "    }\n",
       "</style>\n",
       "<table border=\"1\" class=\"dataframe\">\n",
       "  <thead>\n",
       "    <tr style=\"text-align: right;\">\n",
       "      <th></th>\n",
       "      <th>Age</th>\n",
       "      <th>City</th>\n",
       "      <th>Profession</th>\n",
       "      <th>Marital Status</th>\n",
       "      <th>Education</th>\n",
       "      <th>No. of Family members</th>\n",
       "      <th>Annual Income</th>\n",
       "      <th>Would you prefer replacing all your vehicles to Electronic vehicles?</th>\n",
       "      <th>If Yes/Maybe what type of  EV would you prefer?</th>\n",
       "      <th>Do you think Electronic Vehicles are economical?</th>\n",
       "      <th>Which brand of vehicle do you currently own?</th>\n",
       "      <th>How much money could you spend on an Electronic vehicle?</th>\n",
       "      <th>Preference for wheels in EV</th>\n",
       "      <th>Do you think Electronic vehicles will replace fuel cars in India?</th>\n",
       "    </tr>\n",
       "  </thead>\n",
       "  <tbody>\n",
       "    <tr>\n",
       "      <th>0</th>\n",
       "      <td>30</td>\n",
       "      <td>13</td>\n",
       "      <td>1</td>\n",
       "      <td>1</td>\n",
       "      <td>0</td>\n",
       "      <td>5</td>\n",
       "      <td>1.193876e+06</td>\n",
       "      <td>Maybe</td>\n",
       "      <td>SUV</td>\n",
       "      <td>Yes</td>\n",
       "      <td>Hyundai</td>\n",
       "      <td>&lt;5 lakhs</td>\n",
       "      <td>2</td>\n",
       "      <td>I don't think so</td>\n",
       "    </tr>\n",
       "    <tr>\n",
       "      <th>1</th>\n",
       "      <td>27</td>\n",
       "      <td>20</td>\n",
       "      <td>1</td>\n",
       "      <td>1</td>\n",
       "      <td>0</td>\n",
       "      <td>4</td>\n",
       "      <td>1.844540e+06</td>\n",
       "      <td>Yes</td>\n",
       "      <td>SUV</td>\n",
       "      <td>Yes</td>\n",
       "      <td>Honda</td>\n",
       "      <td>&lt;15 lakhs</td>\n",
       "      <td>4</td>\n",
       "      <td>Yes, in &lt;20years</td>\n",
       "    </tr>\n",
       "    <tr>\n",
       "      <th>2</th>\n",
       "      <td>32</td>\n",
       "      <td>11</td>\n",
       "      <td>1</td>\n",
       "      <td>1</td>\n",
       "      <td>0</td>\n",
       "      <td>4</td>\n",
       "      <td>2.948150e+06</td>\n",
       "      <td>Yes</td>\n",
       "      <td>Hatchback</td>\n",
       "      <td>Yes</td>\n",
       "      <td>KIA</td>\n",
       "      <td>&lt;15 lakhs</td>\n",
       "      <td>4</td>\n",
       "      <td>Yes, in &lt;20years</td>\n",
       "    </tr>\n",
       "    <tr>\n",
       "      <th>3</th>\n",
       "      <td>55</td>\n",
       "      <td>20</td>\n",
       "      <td>0</td>\n",
       "      <td>1</td>\n",
       "      <td>0</td>\n",
       "      <td>3</td>\n",
       "      <td>2.832380e+06</td>\n",
       "      <td>Maybe</td>\n",
       "      <td>Hatchback</td>\n",
       "      <td>No</td>\n",
       "      <td>Hyundai</td>\n",
       "      <td>&lt;5 lakhs</td>\n",
       "      <td>4</td>\n",
       "      <td>Yes, in &lt;10 years</td>\n",
       "    </tr>\n",
       "    <tr>\n",
       "      <th>4</th>\n",
       "      <td>26</td>\n",
       "      <td>22</td>\n",
       "      <td>1</td>\n",
       "      <td>1</td>\n",
       "      <td>0</td>\n",
       "      <td>4</td>\n",
       "      <td>2.638751e+06</td>\n",
       "      <td>Yes</td>\n",
       "      <td>Sedan</td>\n",
       "      <td>Yes</td>\n",
       "      <td>McLaren</td>\n",
       "      <td>&lt;15 lakhs</td>\n",
       "      <td>4</td>\n",
       "      <td>Yes, in &lt;20years</td>\n",
       "    </tr>\n",
       "  </tbody>\n",
       "</table>\n",
       "</div>"
      ],
      "text/plain": [
       "   Age  City  Profession  Marital Status  Education  No. of Family members  \\\n",
       "0   30    13           1               1          0                      5   \n",
       "1   27    20           1               1          0                      4   \n",
       "2   32    11           1               1          0                      4   \n",
       "3   55    20           0               1          0                      3   \n",
       "4   26    22           1               1          0                      4   \n",
       "\n",
       "   Annual Income  \\\n",
       "0   1.193876e+06   \n",
       "1   1.844540e+06   \n",
       "2   2.948150e+06   \n",
       "3   2.832380e+06   \n",
       "4   2.638751e+06   \n",
       "\n",
       "  Would you prefer replacing all your vehicles to Electronic vehicles?  \\\n",
       "0                                              Maybe                     \n",
       "1                                                Yes                     \n",
       "2                                                Yes                     \n",
       "3                                              Maybe                     \n",
       "4                                                Yes                     \n",
       "\n",
       "  If Yes/Maybe what type of  EV would you prefer?  \\\n",
       "0                                             SUV   \n",
       "1                                             SUV   \n",
       "2                                       Hatchback   \n",
       "3                                       Hatchback   \n",
       "4                                           Sedan   \n",
       "\n",
       "  Do you think Electronic Vehicles are economical?  \\\n",
       "0                                              Yes   \n",
       "1                                              Yes   \n",
       "2                                              Yes   \n",
       "3                                               No   \n",
       "4                                              Yes   \n",
       "\n",
       "  Which brand of vehicle do you currently own?  \\\n",
       "0                                      Hyundai   \n",
       "1                                        Honda   \n",
       "2                                          KIA   \n",
       "3                                      Hyundai   \n",
       "4                                     McLaren    \n",
       "\n",
       "  How much money could you spend on an Electronic vehicle?  \\\n",
       "0                                           <5 lakhs         \n",
       "1                                          <15 lakhs         \n",
       "2                                          <15 lakhs         \n",
       "3                                           <5 lakhs         \n",
       "4                                          <15 lakhs         \n",
       "\n",
       "   Preference for wheels in EV  \\\n",
       "0                            2   \n",
       "1                            4   \n",
       "2                            4   \n",
       "3                            4   \n",
       "4                            4   \n",
       "\n",
       "  Do you think Electronic vehicles will replace fuel cars in India?  \n",
       "0                                   I don't think so                 \n",
       "1                                   Yes, in <20years                 \n",
       "2                                   Yes, in <20years                 \n",
       "3                                  Yes, in <10 years                 \n",
       "4                                   Yes, in <20years                 "
      ]
     },
     "execution_count": 40,
     "metadata": {},
     "output_type": "execute_result"
    }
   ],
   "source": [
    "data.head()"
   ]
  },
  {
   "cell_type": "code",
   "execution_count": 41,
   "id": "1af20c61",
   "metadata": {},
   "outputs": [],
   "source": [
    "data['Would you prefer replacing all your vehicles to Electronic vehicles?']= label_encoder(data,'Would you prefer replacing all your vehicles to Electronic vehicles?')\n",
    "data['If Yes/Maybe what type of  EV would you prefer?']= label_encoder(data,'If Yes/Maybe what type of  EV would you prefer?')\n",
    "data['Do you think Electronic Vehicles are economical?']= label_encoder(data,'Do you think Electronic Vehicles are economical?')\n",
    "data['Which brand of vehicle do you currently own?']= label_encoder(data,'Which brand of vehicle do you currently own?')\n",
    "data['Do you think Electronic vehicles will replace fuel cars in India?']= label_encoder(data,'Do you think Electronic vehicles will replace fuel cars in India?')\n",
    "data['How much money could you spend on an Electronic vehicle?']= label_encoder(data,'How much money could you spend on an Electronic vehicle?')"
   ]
  },
  {
   "cell_type": "code",
   "execution_count": 42,
   "id": "59bbb28c",
   "metadata": {},
   "outputs": [
    {
     "data": {
      "text/html": [
       "<div>\n",
       "<style scoped>\n",
       "    .dataframe tbody tr th:only-of-type {\n",
       "        vertical-align: middle;\n",
       "    }\n",
       "\n",
       "    .dataframe tbody tr th {\n",
       "        vertical-align: top;\n",
       "    }\n",
       "\n",
       "    .dataframe thead th {\n",
       "        text-align: right;\n",
       "    }\n",
       "</style>\n",
       "<table border=\"1\" class=\"dataframe\">\n",
       "  <thead>\n",
       "    <tr style=\"text-align: right;\">\n",
       "      <th></th>\n",
       "      <th>Age</th>\n",
       "      <th>City</th>\n",
       "      <th>Profession</th>\n",
       "      <th>Marital Status</th>\n",
       "      <th>Education</th>\n",
       "      <th>No. of Family members</th>\n",
       "      <th>Annual Income</th>\n",
       "      <th>Would you prefer replacing all your vehicles to Electronic vehicles?</th>\n",
       "      <th>If Yes/Maybe what type of  EV would you prefer?</th>\n",
       "      <th>Do you think Electronic Vehicles are economical?</th>\n",
       "      <th>Which brand of vehicle do you currently own?</th>\n",
       "      <th>How much money could you spend on an Electronic vehicle?</th>\n",
       "      <th>Preference for wheels in EV</th>\n",
       "      <th>Do you think Electronic vehicles will replace fuel cars in India?</th>\n",
       "    </tr>\n",
       "  </thead>\n",
       "  <tbody>\n",
       "    <tr>\n",
       "      <th>0</th>\n",
       "      <td>30</td>\n",
       "      <td>13</td>\n",
       "      <td>1</td>\n",
       "      <td>1</td>\n",
       "      <td>0</td>\n",
       "      <td>5</td>\n",
       "      <td>1.193876e+06</td>\n",
       "      <td>0</td>\n",
       "      <td>3</td>\n",
       "      <td>2</td>\n",
       "      <td>4</td>\n",
       "      <td>6</td>\n",
       "      <td>2</td>\n",
       "      <td>0</td>\n",
       "    </tr>\n",
       "    <tr>\n",
       "      <th>1</th>\n",
       "      <td>27</td>\n",
       "      <td>20</td>\n",
       "      <td>1</td>\n",
       "      <td>1</td>\n",
       "      <td>0</td>\n",
       "      <td>4</td>\n",
       "      <td>1.844540e+06</td>\n",
       "      <td>2</td>\n",
       "      <td>3</td>\n",
       "      <td>2</td>\n",
       "      <td>3</td>\n",
       "      <td>4</td>\n",
       "      <td>4</td>\n",
       "      <td>2</td>\n",
       "    </tr>\n",
       "    <tr>\n",
       "      <th>2</th>\n",
       "      <td>32</td>\n",
       "      <td>11</td>\n",
       "      <td>1</td>\n",
       "      <td>1</td>\n",
       "      <td>0</td>\n",
       "      <td>4</td>\n",
       "      <td>2.948150e+06</td>\n",
       "      <td>2</td>\n",
       "      <td>1</td>\n",
       "      <td>2</td>\n",
       "      <td>5</td>\n",
       "      <td>4</td>\n",
       "      <td>4</td>\n",
       "      <td>2</td>\n",
       "    </tr>\n",
       "    <tr>\n",
       "      <th>3</th>\n",
       "      <td>55</td>\n",
       "      <td>20</td>\n",
       "      <td>0</td>\n",
       "      <td>1</td>\n",
       "      <td>0</td>\n",
       "      <td>3</td>\n",
       "      <td>2.832380e+06</td>\n",
       "      <td>0</td>\n",
       "      <td>1</td>\n",
       "      <td>1</td>\n",
       "      <td>4</td>\n",
       "      <td>6</td>\n",
       "      <td>4</td>\n",
       "      <td>1</td>\n",
       "    </tr>\n",
       "    <tr>\n",
       "      <th>4</th>\n",
       "      <td>26</td>\n",
       "      <td>22</td>\n",
       "      <td>1</td>\n",
       "      <td>1</td>\n",
       "      <td>0</td>\n",
       "      <td>4</td>\n",
       "      <td>2.638751e+06</td>\n",
       "      <td>2</td>\n",
       "      <td>4</td>\n",
       "      <td>2</td>\n",
       "      <td>10</td>\n",
       "      <td>4</td>\n",
       "      <td>4</td>\n",
       "      <td>2</td>\n",
       "    </tr>\n",
       "  </tbody>\n",
       "</table>\n",
       "</div>"
      ],
      "text/plain": [
       "   Age  City  Profession  Marital Status  Education  No. of Family members  \\\n",
       "0   30    13           1               1          0                      5   \n",
       "1   27    20           1               1          0                      4   \n",
       "2   32    11           1               1          0                      4   \n",
       "3   55    20           0               1          0                      3   \n",
       "4   26    22           1               1          0                      4   \n",
       "\n",
       "   Annual Income  \\\n",
       "0   1.193876e+06   \n",
       "1   1.844540e+06   \n",
       "2   2.948150e+06   \n",
       "3   2.832380e+06   \n",
       "4   2.638751e+06   \n",
       "\n",
       "   Would you prefer replacing all your vehicles to Electronic vehicles?  \\\n",
       "0                                                  0                      \n",
       "1                                                  2                      \n",
       "2                                                  2                      \n",
       "3                                                  0                      \n",
       "4                                                  2                      \n",
       "\n",
       "   If Yes/Maybe what type of  EV would you prefer?  \\\n",
       "0                                                3   \n",
       "1                                                3   \n",
       "2                                                1   \n",
       "3                                                1   \n",
       "4                                                4   \n",
       "\n",
       "   Do you think Electronic Vehicles are economical?  \\\n",
       "0                                                 2   \n",
       "1                                                 2   \n",
       "2                                                 2   \n",
       "3                                                 1   \n",
       "4                                                 2   \n",
       "\n",
       "   Which brand of vehicle do you currently own?  \\\n",
       "0                                             4   \n",
       "1                                             3   \n",
       "2                                             5   \n",
       "3                                             4   \n",
       "4                                            10   \n",
       "\n",
       "   How much money could you spend on an Electronic vehicle?  \\\n",
       "0                                                  6          \n",
       "1                                                  4          \n",
       "2                                                  4          \n",
       "3                                                  6          \n",
       "4                                                  4          \n",
       "\n",
       "   Preference for wheels in EV  \\\n",
       "0                            2   \n",
       "1                            4   \n",
       "2                            4   \n",
       "3                            4   \n",
       "4                            4   \n",
       "\n",
       "   Do you think Electronic vehicles will replace fuel cars in India?  \n",
       "0                                                  0                  \n",
       "1                                                  2                  \n",
       "2                                                  2                  \n",
       "3                                                  1                  \n",
       "4                                                  2                  "
      ]
     },
     "execution_count": 42,
     "metadata": {},
     "output_type": "execute_result"
    }
   ],
   "source": [
    "data.head()"
   ]
  },
  {
   "cell_type": "markdown",
   "id": "e0dcc50f",
   "metadata": {},
   "source": [
    "# K Means Model"
   ]
  },
  {
   "cell_type": "code",
   "execution_count": 43,
   "id": "d6764e86",
   "metadata": {},
   "outputs": [
    {
     "data": {
      "text/html": [
       "<div>\n",
       "<style scoped>\n",
       "    .dataframe tbody tr th:only-of-type {\n",
       "        vertical-align: middle;\n",
       "    }\n",
       "\n",
       "    .dataframe tbody tr th {\n",
       "        vertical-align: top;\n",
       "    }\n",
       "\n",
       "    .dataframe thead th {\n",
       "        text-align: right;\n",
       "    }\n",
       "</style>\n",
       "<table border=\"1\" class=\"dataframe\">\n",
       "  <thead>\n",
       "    <tr style=\"text-align: right;\">\n",
       "      <th></th>\n",
       "      <th>Age</th>\n",
       "      <th>City</th>\n",
       "      <th>Profession</th>\n",
       "      <th>Marital Status</th>\n",
       "      <th>Education</th>\n",
       "      <th>No. of Family members</th>\n",
       "      <th>Annual Income</th>\n",
       "      <th>Would you prefer replacing all your vehicles to Electronic vehicles?</th>\n",
       "      <th>If Yes/Maybe what type of  EV would you prefer?</th>\n",
       "      <th>Do you think Electronic Vehicles are economical?</th>\n",
       "      <th>Which brand of vehicle do you currently own?</th>\n",
       "      <th>How much money could you spend on an Electronic vehicle?</th>\n",
       "      <th>Preference for wheels in EV</th>\n",
       "      <th>Do you think Electronic vehicles will replace fuel cars in India?</th>\n",
       "    </tr>\n",
       "  </thead>\n",
       "  <tbody>\n",
       "    <tr>\n",
       "      <th>0</th>\n",
       "      <td>30</td>\n",
       "      <td>13</td>\n",
       "      <td>1</td>\n",
       "      <td>1</td>\n",
       "      <td>0</td>\n",
       "      <td>5</td>\n",
       "      <td>1.193876e+06</td>\n",
       "      <td>0</td>\n",
       "      <td>3</td>\n",
       "      <td>2</td>\n",
       "      <td>4</td>\n",
       "      <td>6</td>\n",
       "      <td>2</td>\n",
       "      <td>0</td>\n",
       "    </tr>\n",
       "    <tr>\n",
       "      <th>1</th>\n",
       "      <td>27</td>\n",
       "      <td>20</td>\n",
       "      <td>1</td>\n",
       "      <td>1</td>\n",
       "      <td>0</td>\n",
       "      <td>4</td>\n",
       "      <td>1.844540e+06</td>\n",
       "      <td>2</td>\n",
       "      <td>3</td>\n",
       "      <td>2</td>\n",
       "      <td>3</td>\n",
       "      <td>4</td>\n",
       "      <td>4</td>\n",
       "      <td>2</td>\n",
       "    </tr>\n",
       "    <tr>\n",
       "      <th>2</th>\n",
       "      <td>32</td>\n",
       "      <td>11</td>\n",
       "      <td>1</td>\n",
       "      <td>1</td>\n",
       "      <td>0</td>\n",
       "      <td>4</td>\n",
       "      <td>2.948150e+06</td>\n",
       "      <td>2</td>\n",
       "      <td>1</td>\n",
       "      <td>2</td>\n",
       "      <td>5</td>\n",
       "      <td>4</td>\n",
       "      <td>4</td>\n",
       "      <td>2</td>\n",
       "    </tr>\n",
       "    <tr>\n",
       "      <th>3</th>\n",
       "      <td>55</td>\n",
       "      <td>20</td>\n",
       "      <td>0</td>\n",
       "      <td>1</td>\n",
       "      <td>0</td>\n",
       "      <td>3</td>\n",
       "      <td>2.832380e+06</td>\n",
       "      <td>0</td>\n",
       "      <td>1</td>\n",
       "      <td>1</td>\n",
       "      <td>4</td>\n",
       "      <td>6</td>\n",
       "      <td>4</td>\n",
       "      <td>1</td>\n",
       "    </tr>\n",
       "    <tr>\n",
       "      <th>4</th>\n",
       "      <td>26</td>\n",
       "      <td>22</td>\n",
       "      <td>1</td>\n",
       "      <td>1</td>\n",
       "      <td>0</td>\n",
       "      <td>4</td>\n",
       "      <td>2.638751e+06</td>\n",
       "      <td>2</td>\n",
       "      <td>4</td>\n",
       "      <td>2</td>\n",
       "      <td>10</td>\n",
       "      <td>4</td>\n",
       "      <td>4</td>\n",
       "      <td>2</td>\n",
       "    </tr>\n",
       "  </tbody>\n",
       "</table>\n",
       "</div>"
      ],
      "text/plain": [
       "   Age  City  Profession  Marital Status  Education  No. of Family members  \\\n",
       "0   30    13           1               1          0                      5   \n",
       "1   27    20           1               1          0                      4   \n",
       "2   32    11           1               1          0                      4   \n",
       "3   55    20           0               1          0                      3   \n",
       "4   26    22           1               1          0                      4   \n",
       "\n",
       "   Annual Income  \\\n",
       "0   1.193876e+06   \n",
       "1   1.844540e+06   \n",
       "2   2.948150e+06   \n",
       "3   2.832380e+06   \n",
       "4   2.638751e+06   \n",
       "\n",
       "   Would you prefer replacing all your vehicles to Electronic vehicles?  \\\n",
       "0                                                  0                      \n",
       "1                                                  2                      \n",
       "2                                                  2                      \n",
       "3                                                  0                      \n",
       "4                                                  2                      \n",
       "\n",
       "   If Yes/Maybe what type of  EV would you prefer?  \\\n",
       "0                                                3   \n",
       "1                                                3   \n",
       "2                                                1   \n",
       "3                                                1   \n",
       "4                                                4   \n",
       "\n",
       "   Do you think Electronic Vehicles are economical?  \\\n",
       "0                                                 2   \n",
       "1                                                 2   \n",
       "2                                                 2   \n",
       "3                                                 1   \n",
       "4                                                 2   \n",
       "\n",
       "   Which brand of vehicle do you currently own?  \\\n",
       "0                                             4   \n",
       "1                                             3   \n",
       "2                                             5   \n",
       "3                                             4   \n",
       "4                                            10   \n",
       "\n",
       "   How much money could you spend on an Electronic vehicle?  \\\n",
       "0                                                  6          \n",
       "1                                                  4          \n",
       "2                                                  4          \n",
       "3                                                  6          \n",
       "4                                                  4          \n",
       "\n",
       "   Preference for wheels in EV  \\\n",
       "0                            2   \n",
       "1                            4   \n",
       "2                            4   \n",
       "3                            4   \n",
       "4                            4   \n",
       "\n",
       "   Do you think Electronic vehicles will replace fuel cars in India?  \n",
       "0                                                  0                  \n",
       "1                                                  2                  \n",
       "2                                                  2                  \n",
       "3                                                  1                  \n",
       "4                                                  2                  "
      ]
     },
     "execution_count": 43,
     "metadata": {},
     "output_type": "execute_result"
    }
   ],
   "source": [
    "data.head()"
   ]
  },
  {
   "cell_type": "markdown",
   "id": "3f1ffbae",
   "metadata": {},
   "source": [
    "# Checking for Variance Inflation Factor"
   ]
  },
  {
   "cell_type": "code",
   "execution_count": 44,
   "id": "13376ce7",
   "metadata": {},
   "outputs": [],
   "source": [
    "y=data[\"City\"]\n",
    "x=data.drop([\"City\"],axis=1)"
   ]
  },
  {
   "cell_type": "code",
   "execution_count": 45,
   "id": "4f7bdf1a",
   "metadata": {},
   "outputs": [],
   "source": [
    "from statsmodels.stats.outliers_influence import variance_inflation_factor\n",
    "\n",
    "def vif(x):\n",
    "    vif=pd.DataFrame()\n",
    "    vif['variables']=x.columns\n",
    "    vif['VIF']=[variance_inflation_factor(x.values, i) for i in range(x.shape[1])]\n",
    "    return(vif)"
   ]
  },
  {
   "cell_type": "code",
   "execution_count": 46,
   "id": "5e59050b",
   "metadata": {},
   "outputs": [],
   "source": [
    "x=data.iloc[:,:-1]"
   ]
  },
  {
   "cell_type": "code",
   "execution_count": 47,
   "id": "275ac24d",
   "metadata": {},
   "outputs": [
    {
     "data": {
      "text/html": [
       "<div>\n",
       "<style scoped>\n",
       "    .dataframe tbody tr th:only-of-type {\n",
       "        vertical-align: middle;\n",
       "    }\n",
       "\n",
       "    .dataframe tbody tr th {\n",
       "        vertical-align: top;\n",
       "    }\n",
       "\n",
       "    .dataframe thead th {\n",
       "        text-align: right;\n",
       "    }\n",
       "</style>\n",
       "<table border=\"1\" class=\"dataframe\">\n",
       "  <thead>\n",
       "    <tr style=\"text-align: right;\">\n",
       "      <th></th>\n",
       "      <th>variables</th>\n",
       "      <th>VIF</th>\n",
       "    </tr>\n",
       "  </thead>\n",
       "  <tbody>\n",
       "    <tr>\n",
       "      <th>0</th>\n",
       "      <td>Age</td>\n",
       "      <td>8.037117</td>\n",
       "    </tr>\n",
       "    <tr>\n",
       "      <th>1</th>\n",
       "      <td>City</td>\n",
       "      <td>7.935288</td>\n",
       "    </tr>\n",
       "    <tr>\n",
       "      <th>2</th>\n",
       "      <td>Profession</td>\n",
       "      <td>2.909922</td>\n",
       "    </tr>\n",
       "    <tr>\n",
       "      <th>3</th>\n",
       "      <td>Marital Status</td>\n",
       "      <td>2.712630</td>\n",
       "    </tr>\n",
       "    <tr>\n",
       "      <th>4</th>\n",
       "      <td>Education</td>\n",
       "      <td>1.446102</td>\n",
       "    </tr>\n",
       "    <tr>\n",
       "      <th>5</th>\n",
       "      <td>No. of Family members</td>\n",
       "      <td>8.307093</td>\n",
       "    </tr>\n",
       "    <tr>\n",
       "      <th>6</th>\n",
       "      <td>Annual Income</td>\n",
       "      <td>5.720670</td>\n",
       "    </tr>\n",
       "    <tr>\n",
       "      <th>7</th>\n",
       "      <td>Would you prefer replacing all your vehicles t...</td>\n",
       "      <td>4.146009</td>\n",
       "    </tr>\n",
       "    <tr>\n",
       "      <th>8</th>\n",
       "      <td>If Yes/Maybe what type of  EV would you prefer?</td>\n",
       "      <td>7.139379</td>\n",
       "    </tr>\n",
       "    <tr>\n",
       "      <th>9</th>\n",
       "      <td>Do you think Electronic Vehicles are economical?</td>\n",
       "      <td>6.277429</td>\n",
       "    </tr>\n",
       "    <tr>\n",
       "      <th>10</th>\n",
       "      <td>Which brand of vehicle do you currently own?</td>\n",
       "      <td>3.882593</td>\n",
       "    </tr>\n",
       "    <tr>\n",
       "      <th>11</th>\n",
       "      <td>How much money could you spend on an Electroni...</td>\n",
       "      <td>13.102411</td>\n",
       "    </tr>\n",
       "    <tr>\n",
       "      <th>12</th>\n",
       "      <td>Preference for wheels in EV</td>\n",
       "      <td>12.553683</td>\n",
       "    </tr>\n",
       "  </tbody>\n",
       "</table>\n",
       "</div>"
      ],
      "text/plain": [
       "                                            variables        VIF\n",
       "0                                                 Age   8.037117\n",
       "1                                                City   7.935288\n",
       "2                                          Profession   2.909922\n",
       "3                                      Marital Status   2.712630\n",
       "4                                           Education   1.446102\n",
       "5                               No. of Family members   8.307093\n",
       "6                                       Annual Income   5.720670\n",
       "7   Would you prefer replacing all your vehicles t...   4.146009\n",
       "8     If Yes/Maybe what type of  EV would you prefer?   7.139379\n",
       "9    Do you think Electronic Vehicles are economical?   6.277429\n",
       "10       Which brand of vehicle do you currently own?   3.882593\n",
       "11  How much money could you spend on an Electroni...  13.102411\n",
       "12                        Preference for wheels in EV  12.553683"
      ]
     },
     "execution_count": 47,
     "metadata": {},
     "output_type": "execute_result"
    }
   ],
   "source": [
    "vif(x)"
   ]
  },
  {
   "cell_type": "code",
   "execution_count": 48,
   "id": "08695544",
   "metadata": {},
   "outputs": [],
   "source": [
    "from sklearn.cluster import KMeans \n",
    "wcss=[]\n",
    "for k in range(1,11):\n",
    "    kmeans=KMeans(n_clusters=k,init=\"k-means++\",random_state=123)\n",
    "    kmeans.fit(x)\n",
    "    wcss.append(kmeans.inertia_)"
   ]
  },
  {
   "cell_type": "code",
   "execution_count": 49,
   "id": "f7666bea",
   "metadata": {},
   "outputs": [
    {
     "data": {
      "image/png": "[encoded data removed]",
      "text/plain": [
       "<Figure size 864x360 with 1 Axes>"
      ]
     },
     "metadata": {
      "needs_background": "light"
     },
     "output_type": "display_data"
    }
   ],
   "source": [
    "plt.figure(figsize=(12,5))\n",
    "plt.plot(range(1,11),wcss,linewidth=2, color=\"green\",marker=\"8\")\n",
    "plt.xlabel('K-Value')\n",
    "plt.ylabel('Wcss')\n",
    "plt.xticks(np.arange(1,11,1))\n",
    "plt.show()"
   ]
  },
  {
   "cell_type": "markdown",
   "id": "7ccf3dd3",
   "metadata": {},
   "source": [
    "# Making Predictions"
   ]
  },
  {
   "cell_type": "code",
   "execution_count": 50,
   "id": "df7d63bc",
   "metadata": {},
   "outputs": [],
   "source": [
    "kmeans_predict=KMeans(n_clusters=4,random_state=123)\n",
    "clusters=kmeans_predict.fit_predict(data)\n",
    "data_copy[\"Clusters\"]=clusters"
   ]
  },
  {
   "cell_type": "code",
   "execution_count": 51,
   "id": "b93ce50d",
   "metadata": {},
   "outputs": [
    {
     "data": {
      "text/html": [
       "<div>\n",
       "<style scoped>\n",
       "    .dataframe tbody tr th:only-of-type {\n",
       "        vertical-align: middle;\n",
       "    }\n",
       "\n",
       "    .dataframe tbody tr th {\n",
       "        vertical-align: top;\n",
       "    }\n",
       "\n",
       "    .dataframe thead th {\n",
       "        text-align: right;\n",
       "    }\n",
       "</style>\n",
       "<table border=\"1\" class=\"dataframe\">\n",
       "  <thead>\n",
       "    <tr style=\"text-align: right;\">\n",
       "      <th></th>\n",
       "      <th>Unnamed: 0</th>\n",
       "      <th>Age</th>\n",
       "      <th>City</th>\n",
       "      <th>Profession</th>\n",
       "      <th>Marital Status</th>\n",
       "      <th>Education</th>\n",
       "      <th>No. of Family members</th>\n",
       "      <th>Annual Income</th>\n",
       "      <th>Would you prefer replacing all your vehicles to Electronic vehicles?</th>\n",
       "      <th>If Yes/Maybe what type of  EV would you prefer?</th>\n",
       "      <th>Do you think Electronic Vehicles are economical?</th>\n",
       "      <th>Which brand of vehicle do you currently own?</th>\n",
       "      <th>How much money could you spend on an Electronic vehicle?</th>\n",
       "      <th>Preference for wheels in EV</th>\n",
       "      <th>Do you think Electronic vehicles will replace fuel cars in India?</th>\n",
       "      <th>Clusters</th>\n",
       "    </tr>\n",
       "  </thead>\n",
       "  <tbody>\n",
       "    <tr>\n",
       "      <th>0</th>\n",
       "      <td>0</td>\n",
       "      <td>30</td>\n",
       "      <td>Nabha</td>\n",
       "      <td>None</td>\n",
       "      <td>Single</td>\n",
       "      <td>Graduate</td>\n",
       "      <td>5</td>\n",
       "      <td>1.193876e+06</td>\n",
       "      <td>Maybe</td>\n",
       "      <td>SUV</td>\n",
       "      <td>Yes</td>\n",
       "      <td>Hyundai</td>\n",
       "      <td>&lt;5 lakhs</td>\n",
       "      <td>2</td>\n",
       "      <td>I don't think so</td>\n",
       "      <td>3</td>\n",
       "    </tr>\n",
       "    <tr>\n",
       "      <th>1</th>\n",
       "      <td>1</td>\n",
       "      <td>27</td>\n",
       "      <td>Pune</td>\n",
       "      <td>None</td>\n",
       "      <td>Single</td>\n",
       "      <td>Graduate</td>\n",
       "      <td>4</td>\n",
       "      <td>1.844540e+06</td>\n",
       "      <td>Yes</td>\n",
       "      <td>SUV</td>\n",
       "      <td>Yes</td>\n",
       "      <td>Honda</td>\n",
       "      <td>&lt;15 lakhs</td>\n",
       "      <td>4</td>\n",
       "      <td>Yes, in &lt;20years</td>\n",
       "      <td>0</td>\n",
       "    </tr>\n",
       "    <tr>\n",
       "      <th>2</th>\n",
       "      <td>2</td>\n",
       "      <td>32</td>\n",
       "      <td>Kashipur</td>\n",
       "      <td>None</td>\n",
       "      <td>Single</td>\n",
       "      <td>Graduate</td>\n",
       "      <td>4</td>\n",
       "      <td>2.948150e+06</td>\n",
       "      <td>Yes</td>\n",
       "      <td>Hatchback</td>\n",
       "      <td>Yes</td>\n",
       "      <td>KIA</td>\n",
       "      <td>&lt;15 lakhs</td>\n",
       "      <td>4</td>\n",
       "      <td>Yes, in &lt;20years</td>\n",
       "      <td>1</td>\n",
       "    </tr>\n",
       "    <tr>\n",
       "      <th>3</th>\n",
       "      <td>3</td>\n",
       "      <td>55</td>\n",
       "      <td>Pune</td>\n",
       "      <td>Business</td>\n",
       "      <td>Single</td>\n",
       "      <td>Graduate</td>\n",
       "      <td>3</td>\n",
       "      <td>2.832380e+06</td>\n",
       "      <td>Maybe</td>\n",
       "      <td>Hatchback</td>\n",
       "      <td>No</td>\n",
       "      <td>Hyundai</td>\n",
       "      <td>&lt;5 lakhs</td>\n",
       "      <td>4</td>\n",
       "      <td>Yes, in &lt;10 years</td>\n",
       "      <td>1</td>\n",
       "    </tr>\n",
       "    <tr>\n",
       "      <th>4</th>\n",
       "      <td>4</td>\n",
       "      <td>26</td>\n",
       "      <td>Satara</td>\n",
       "      <td>None</td>\n",
       "      <td>Single</td>\n",
       "      <td>Graduate</td>\n",
       "      <td>4</td>\n",
       "      <td>2.638751e+06</td>\n",
       "      <td>Yes</td>\n",
       "      <td>Sedan</td>\n",
       "      <td>Yes</td>\n",
       "      <td>McLaren</td>\n",
       "      <td>&lt;15 lakhs</td>\n",
       "      <td>4</td>\n",
       "      <td>Yes, in &lt;20years</td>\n",
       "      <td>1</td>\n",
       "    </tr>\n",
       "  </tbody>\n",
       "</table>\n",
       "</div>"
      ],
      "text/plain": [
       "   Unnamed: 0  Age       City Profession Marital Status Education  \\\n",
       "0           0   30      Nabha       None         Single  Graduate   \n",
       "1           1   27       Pune       None         Single  Graduate   \n",
       "2           2   32  Kashipur        None         Single  Graduate   \n",
       "3           3   55       Pune   Business         Single  Graduate   \n",
       "4           4   26     Satara       None         Single  Graduate   \n",
       "\n",
       "   No. of Family members  Annual Income  \\\n",
       "0                      5   1.193876e+06   \n",
       "1                      4   1.844540e+06   \n",
       "2                      4   2.948150e+06   \n",
       "3                      3   2.832380e+06   \n",
       "4                      4   2.638751e+06   \n",
       "\n",
       "  Would you prefer replacing all your vehicles to Electronic vehicles?  \\\n",
       "0                                              Maybe                     \n",
       "1                                                Yes                     \n",
       "2                                                Yes                     \n",
       "3                                              Maybe                     \n",
       "4                                                Yes                     \n",
       "\n",
       "  If Yes/Maybe what type of  EV would you prefer?  \\\n",
       "0                                             SUV   \n",
       "1                                             SUV   \n",
       "2                                       Hatchback   \n",
       "3                                       Hatchback   \n",
       "4                                           Sedan   \n",
       "\n",
       "  Do you think Electronic Vehicles are economical?  \\\n",
       "0                                              Yes   \n",
       "1                                              Yes   \n",
       "2                                              Yes   \n",
       "3                                               No   \n",
       "4                                              Yes   \n",
       "\n",
       "  Which brand of vehicle do you currently own?  \\\n",
       "0                                      Hyundai   \n",
       "1                                        Honda   \n",
       "2                                          KIA   \n",
       "3                                      Hyundai   \n",
       "4                                     McLaren    \n",
       "\n",
       "  How much money could you spend on an Electronic vehicle?  \\\n",
       "0                                           <5 lakhs         \n",
       "1                                          <15 lakhs         \n",
       "2                                          <15 lakhs         \n",
       "3                                           <5 lakhs         \n",
       "4                                          <15 lakhs         \n",
       "\n",
       "   Preference for wheels in EV  \\\n",
       "0                            2   \n",
       "1                            4   \n",
       "2                            4   \n",
       "3                            4   \n",
       "4                            4   \n",
       "\n",
       "  Do you think Electronic vehicles will replace fuel cars in India?  Clusters  \n",
       "0                                   I don't think so                        3  \n",
       "1                                   Yes, in <20years                        0  \n",
       "2                                   Yes, in <20years                        1  \n",
       "3                                  Yes, in <10 years                        1  \n",
       "4                                   Yes, in <20years                        1  "
      ]
     },
     "execution_count": 51,
     "metadata": {},
     "output_type": "execute_result"
    }
   ],
   "source": [
    "data_copy.head()"
   ]
  },
  {
   "cell_type": "code",
   "execution_count": 52,
   "id": "915c7f73",
   "metadata": {},
   "outputs": [
    {
     "data": {
      "text/plain": [
       "1    434\n",
       "0    366\n",
       "3    193\n",
       "2      7\n",
       "Name: Clusters, dtype: int64"
      ]
     },
     "execution_count": 52,
     "metadata": {},
     "output_type": "execute_result"
    }
   ],
   "source": [
    "data_copy[\"Clusters\"].value_counts()"
   ]
  },
  {
   "cell_type": "code",
   "execution_count": 53,
   "id": "112c63f2",
   "metadata": {},
   "outputs": [],
   "source": [
    "data_copy[\"City\"]=data_copy[\"City\"].replace({\"Pune \":\"Pune\",\"pUNE\":\"Pune\",\"pune\":\"Pune\",\"Pune\":\"Pune\"})\n",
    "data_copy[\"City\"]=data_copy[\"City\"].replace({\"Banglore \":\"Bengaluru\"})\n",
    "data_copy[\"City\"]=data_copy[\"City\"].replace({\"Hakdwani\":\"Haldwani\",\"Haldwani \":\"Haldwani\"})\n",
    "data_copy[\"City\"]=data_copy[\"City\"].replace({\"New Delhi \":\"Delhi\",\"Delhi \":\"Delhi\"})\n",
    "data_copy[\"City\"]=data_copy[\"City\"].replace({\"nashik\":\"Nashik\"})\n",
    "data_copy[\"City\"]=data_copy[\"City\"].replace({\"Mumbai \":\"Mumbai\"})"
   ]
  },
  {
   "cell_type": "markdown",
   "id": "d74e4056",
   "metadata": {},
   "source": [
    "# Bifurcating the data according to the cluster "
   ]
  },
  {
   "cell_type": "code",
   "execution_count": 54,
   "id": "fdeddb29",
   "metadata": {},
   "outputs": [],
   "source": [
    "Cluster_0=data_copy[data_copy.Clusters==0]\n",
    "Cluster_1=data_copy[data_copy.Clusters==1]\n",
    "Cluster_2=data_copy[data_copy.Clusters==2]\n",
    "Cluster_3=data_copy[data_copy.Clusters==3]"
   ]
  },
  {
   "cell_type": "markdown",
   "id": "bb2c1e1f",
   "metadata": {},
   "source": [
    "# Demographic Segments "
   ]
  },
  {
   "cell_type": "markdown",
   "id": "3d38b789",
   "metadata": {},
   "source": [
    "### Age Group \n"
   ]
  },
  {
   "cell_type": "code",
   "execution_count": 55,
   "id": "7ab363b8",
   "metadata": {},
   "outputs": [
    {
     "data": {
      "text/plain": [
       "[29    45\n",
       " 28    42\n",
       " 30    37\n",
       " 31    36\n",
       " 27    35\n",
       " Name: Age, dtype: int64,\n",
       " 29    48\n",
       " 28    43\n",
       " 30    43\n",
       " 25    39\n",
       " 26    39\n",
       " Name: Age, dtype: int64,\n",
       " 30    2\n",
       " 26    1\n",
       " 29    1\n",
       " 56    1\n",
       " 28    1\n",
       " Name: Age, dtype: int64,\n",
       " 31    27\n",
       " 30    23\n",
       " 29    22\n",
       " 27    18\n",
       " 28    16\n",
       " Name: Age, dtype: int64]"
      ]
     },
     "execution_count": 55,
     "metadata": {},
     "output_type": "execute_result"
    }
   ],
   "source": [
    "[Cluster_0[\"Age\"].value_counts().head(),\n",
    "Cluster_1[\"Age\"].value_counts().head(),\n",
    "Cluster_2[\"Age\"].value_counts().head(),\n",
    "Cluster_3[\"Age\"].value_counts().head()]\n",
    "\n",
    "# Age group of 28-31 needs to be targeted"
   ]
  },
  {
   "cell_type": "markdown",
   "id": "14fec40c",
   "metadata": {},
   "source": [
    "### Education"
   ]
  },
  {
   "cell_type": "code",
   "execution_count": 56,
   "id": "2b458598",
   "metadata": {},
   "outputs": [
    {
     "data": {
      "text/plain": [
       "[Graduate         260\n",
       " Post Graduate    106\n",
       " Name: Education, dtype: int64,\n",
       " Graduate         300\n",
       " Post Graduate    134\n",
       " Name: Education, dtype: int64,\n",
       " Graduate         5\n",
       " Post Graduate    2\n",
       " Name: Education, dtype: int64,\n",
       " Graduate         128\n",
       " Post Graduate     65\n",
       " Name: Education, dtype: int64]"
      ]
     },
     "execution_count": 56,
     "metadata": {},
     "output_type": "execute_result"
    }
   ],
   "source": [
    "[Cluster_0[\"Education\"].value_counts().head(),\n",
    "Cluster_1[\"Education\"].value_counts().head(),\n",
    "Cluster_2[\"Education\"].value_counts().head(),\n",
    "Cluster_3[\"Education\"].value_counts().head()]\n",
    "\n",
    "# Graduate people needs to be targeted most"
   ]
  },
  {
   "cell_type": "markdown",
   "id": "907caa18",
   "metadata": {},
   "source": [
    "### Income group"
   ]
  },
  {
   "cell_type": "code",
   "execution_count": 57,
   "id": "64b7abfb",
   "metadata": {},
   "outputs": [
    {
     "data": {
      "text/plain": [
       "[2058283.2568936765, 2808684.445664124, 10737228.104106281, 1092645.106776382]"
      ]
     },
     "execution_count": 57,
     "metadata": {},
     "output_type": "execute_result"
    }
   ],
   "source": [
    "[Cluster_0[\"Annual Income\"].mean(),\n",
    "Cluster_1[\"Annual Income\"].mean(),\n",
    "Cluster_2[\"Annual Income\"].mean(),\n",
    "Cluster_3[\"Annual Income\"].mean()]\n",
    "\n",
    "# Cluster 1 has the highest average income, followed by cluster 0,3,2"
   ]
  },
  {
   "cell_type": "markdown",
   "id": "9687422c",
   "metadata": {},
   "source": [
    "# Geographic Segments "
   ]
  },
  {
   "cell_type": "markdown",
   "id": "7895978f",
   "metadata": {},
   "source": [
    "### City"
   ]
  },
  {
   "cell_type": "code",
   "execution_count": 58,
   "id": "bb902691",
   "metadata": {},
   "outputs": [
    {
     "data": {
      "text/plain": [
       "[Pune        230\n",
       " Mumbai       16\n",
       " Delhi        13\n",
       " Haldwani     11\n",
       " Satara        9\n",
       " Name: City, dtype: int64,\n",
       " Pune         281\n",
       " Mumbai        24\n",
       " Delhi         17\n",
       " Bengaluru     12\n",
       " New Delhi     11\n",
       " Name: City, dtype: int64,\n",
       " Pune         4\n",
       " Mumbai       2\n",
       " Ahmedabad    1\n",
       " Name: City, dtype: int64,\n",
       " Pune        106\n",
       " Mumbai       14\n",
       " Delhi         8\n",
       " Haldwani      6\n",
       " Chennai       6\n",
       " Name: City, dtype: int64]"
      ]
     },
     "execution_count": 58,
     "metadata": {},
     "output_type": "execute_result"
    }
   ],
   "source": [
    "[Cluster_0[\"City\"].value_counts().head(),\n",
    "Cluster_1[\"City\"].value_counts().head(),\n",
    "Cluster_2[\"City\"].value_counts().head(),\n",
    "Cluster_3[\"City\"].value_counts().head()]\n",
    "\n",
    "# Pune and Mumbai are present in all the cluster and they are more suitable to target the EV Market \n",
    "# Delhi, Haldwani and Bengaluru should be the next city to target \n",
    "# Followed by Satara and Chennai "
   ]
  },
  {
   "cell_type": "markdown",
   "id": "812fc629",
   "metadata": {},
   "source": [
    "# Psychographic segments"
   ]
  },
  {
   "cell_type": "markdown",
   "id": "2597e6b9",
   "metadata": {},
   "source": [
    "### No of Family Memebers"
   ]
  },
  {
   "cell_type": "code",
   "execution_count": 59,
   "id": "bb6760e8",
   "metadata": {},
   "outputs": [
    {
     "data": {
      "text/plain": [
       "[Single     219\n",
       " Married    147\n",
       " Name: Marital Status, dtype: int64,\n",
       " Single     285\n",
       " Married    149\n",
       " Name: Marital Status, dtype: int64,\n",
       " Married    5\n",
       " Single     2\n",
       " Name: Marital Status, dtype: int64,\n",
       " Single     132\n",
       " Married     61\n",
       " Name: Marital Status, dtype: int64]"
      ]
     },
     "execution_count": 59,
     "metadata": {},
     "output_type": "execute_result"
    }
   ],
   "source": [
    "[Cluster_0[\"Marital Status\"].value_counts().head(),\n",
    "Cluster_1[\"Marital Status\"].value_counts().head(),\n",
    "Cluster_2[\"Marital Status\"].value_counts().head(),\n",
    "Cluster_3[\"Marital Status\"].value_counts().head()]\n",
    "\n",
    "# Single Married People should be the targeted"
   ]
  },
  {
   "cell_type": "code",
   "execution_count": 60,
   "id": "57e14d48",
   "metadata": {},
   "outputs": [
    {
     "data": {
      "text/plain": [
       "[4    192\n",
       " 5     57\n",
       " 3     46\n",
       " 8     22\n",
       " 6     13\n",
       " Name: No. of Family members, dtype: int64,\n",
       " 4    234\n",
       " 5     63\n",
       " 3     59\n",
       " 6     22\n",
       " 2     14\n",
       " Name: No. of Family members, dtype: int64,\n",
       " 4    3\n",
       " 6    2\n",
       " 5    1\n",
       " 8    1\n",
       " Name: No. of Family members, dtype: int64,\n",
       " 4    87\n",
       " 5    37\n",
       " 3    22\n",
       " 6    13\n",
       " 8    12\n",
       " Name: No. of Family members, dtype: int64]"
      ]
     },
     "execution_count": 60,
     "metadata": {},
     "output_type": "execute_result"
    }
   ],
   "source": [
    "[Cluster_0[\"No. of Family members\"].value_counts().head(),\n",
    "Cluster_1[\"No. of Family members\"].value_counts().head(),\n",
    "Cluster_2[\"No. of Family members\"].value_counts().head(),\n",
    "Cluster_3[\"No. of Family members\"].value_counts().head()]\n",
    "\n",
    "# Family having 3 to 5 should be targeted as they are more interested in CV  "
   ]
  },
  {
   "cell_type": "markdown",
   "id": "3434d1c6",
   "metadata": {},
   "source": [
    "# Car Preference"
   ]
  },
  {
   "cell_type": "code",
   "execution_count": 61,
   "id": "ee4d06d2",
   "metadata": {},
   "outputs": [
    {
     "data": {
      "text/plain": [
       "[4    230\n",
       " 2    100\n",
       " 3     36\n",
       " Name: Preference for wheels in EV, dtype: int64,\n",
       " 4    266\n",
       " 2    126\n",
       " 3     42\n",
       " Name: Preference for wheels in EV, dtype: int64,\n",
       " 4    4\n",
       " 2    2\n",
       " 3    1\n",
       " Name: Preference for wheels in EV, dtype: int64,\n",
       " 4    129\n",
       " 2     52\n",
       " 3     12\n",
       " Name: Preference for wheels in EV, dtype: int64]"
      ]
     },
     "execution_count": 61,
     "metadata": {},
     "output_type": "execute_result"
    }
   ],
   "source": [
    "[Cluster_0[\"Preference for wheels in EV\"].value_counts().head(),\n",
    "Cluster_1[\"Preference for wheels in EV\"].value_counts().head(),\n",
    "Cluster_2[\"Preference for wheels in EV\"].value_counts().head(),\n",
    "Cluster_3[\"Preference for wheels in EV\"].value_counts().head()]\n",
    "\n",
    "# 4 wheeler are more preferred EV vehicle in the market \n",
    "# Followed by 2 wheeler and 3 wheeler"
   ]
  },
  {
   "cell_type": "code",
   "execution_count": 62,
   "id": "a055a4fb",
   "metadata": {},
   "outputs": [
    {
     "data": {
      "text/plain": [
       "[Tata       68\n",
       " Hyundai    62\n",
       " KIA        53\n",
       " Honda      51\n",
       " Nissan     47\n",
       " Name: Which brand of vehicle do you currently own?, dtype: int64,\n",
       " Tata       79\n",
       " Hyundai    71\n",
       " Honda      66\n",
       " KIA        62\n",
       " Nissan     53\n",
       " Name: Which brand of vehicle do you currently own?, dtype: int64,\n",
       " Tata       3\n",
       " KIA        1\n",
       " MG         1\n",
       " Honda      1\n",
       " Hyundai    1\n",
       " Name: Which brand of vehicle do you currently own?, dtype: int64,\n",
       " Tata       36\n",
       " Hyundai    31\n",
       " KIA        28\n",
       " Honda      26\n",
       " Nissan     22\n",
       " Name: Which brand of vehicle do you currently own?, dtype: int64]"
      ]
     },
     "execution_count": 62,
     "metadata": {},
     "output_type": "execute_result"
    }
   ],
   "source": [
    "[Cluster_0['Which brand of vehicle do you currently own?'].value_counts().head(), \n",
    " Cluster_1['Which brand of vehicle do you currently own?'].value_counts().head(), \n",
    " Cluster_2['Which brand of vehicle do you currently own?'].value_counts().head(), \n",
    " Cluster_3['Which brand of vehicle do you currently own?'].value_counts().head()]\n",
    "\n",
    "# Tata is the most preferred brand in all the cluster\n",
    "# Hyundai and KIA is the 2nd best preferred brand in the market\n",
    "# Followed by Honda and Nissian "
   ]
  },
  {
   "cell_type": "code",
   "execution_count": 63,
   "id": "7de7b64a",
   "metadata": {},
   "outputs": [
    {
     "name": "stdout",
     "output_type": "stream",
     "text": [
      "SUV          175\n",
      "Sedan         84\n",
      "Hatchback     54\n",
      "Liftback      43\n",
      "Cabrio        10\n",
      "Name: If Yes/Maybe what type of  EV would you prefer?, dtype: int64\n",
      "SUV          193\n",
      "Sedan        116\n",
      "Hatchback     63\n",
      "Liftback      46\n",
      "Cabrio        16\n",
      "Name: If Yes/Maybe what type of  EV would you prefer?, dtype: int64\n",
      "SUV          3\n",
      "Sedan        2\n",
      "Hatchback    1\n",
      "Liftback     1\n",
      "Name: If Yes/Maybe what type of  EV would you prefer?, dtype: int64\n",
      "SUV          96\n",
      "Sedan        38\n",
      "Liftback     30\n",
      "Hatchback    26\n",
      "Cabrio        3\n",
      "Name: If Yes/Maybe what type of  EV would you prefer?, dtype: int64\n"
     ]
    }
   ],
   "source": [
    "print(Cluster_0['If Yes/Maybe what type of  EV would you prefer?'].value_counts().head())\n",
    "print(Cluster_1['If Yes/Maybe what type of  EV would you prefer?'].value_counts().head())\n",
    "print(Cluster_2['If Yes/Maybe what type of  EV would you prefer?'].value_counts().head())\n",
    "print(Cluster_3['If Yes/Maybe what type of  EV would you prefer?'].value_counts().head())\n",
    "\n",
    "#Suv and Sedan are the most preferred EV in all the cluster \n",
    "# Followed by Hatchback and Liftback being 2nd preferred EV \n",
    "#Cabrio being the least preferred"
   ]
  },
  {
   "cell_type": "code",
   "execution_count": 64,
   "id": "b467e3ce",
   "metadata": {
    "scrolled": true
   },
   "outputs": [
    {
     "data": {
      "text/plain": [
       "[<15 lakhs    159\n",
       " <5 lakhs     106\n",
       " <25 lakhs     69\n",
       " >25 lakhs     14\n",
       " 700000         6\n",
       " Name: How much money could you spend on an Electronic vehicle?, dtype: int64,\n",
       " <15 lakhs    219\n",
       " <5 lakhs     128\n",
       " <25 lakhs     49\n",
       " >25 lakhs     15\n",
       " 1200000        7\n",
       " Name: How much money could you spend on an Electronic vehicle?, dtype: int64,\n",
       " <15 lakhs    3\n",
       " <5 lakhs     3\n",
       " <25 lakhs    1\n",
       " Name: How much money could you spend on an Electronic vehicle?, dtype: int64,\n",
       " <15 lakhs    102\n",
       " <5 lakhs      51\n",
       " <25 lakhs     29\n",
       " >25 lakhs      5\n",
       " 1200000        3\n",
       " Name: How much money could you spend on an Electronic vehicle?, dtype: int64]"
      ]
     },
     "execution_count": 64,
     "metadata": {},
     "output_type": "execute_result"
    }
   ],
   "source": [
    "[Cluster_0[\"How much money could you spend on an Electronic vehicle?\"].value_counts().head(),\n",
    "Cluster_1[\"How much money could you spend on an Electronic vehicle?\"].value_counts().head(),\n",
    "Cluster_2[\"How much money could you spend on an Electronic vehicle?\"].value_counts().head(),\n",
    "Cluster_3[\"How much money could you spend on an Electronic vehicle?\"].value_counts().head()]"
   ]
  },
  {
   "cell_type": "markdown",
   "id": "8150cf02",
   "metadata": {},
   "source": [
    "### Cluster 0, 1 and 3 have more customers. Total 1000 customers \n",
    "\n",
    "483 out of 1000 people only wants to spend <15 lakh for EV - 48.3%\n",
    "\n",
    "288 out of 1000 people only wants to spend <5 lakh for EV - 28.8%\n",
    "\n",
    "148 out of 1000 people only wants to spend <25 lakh for EV - 14.8%\n",
    "\n",
    "34 out of 1000 people only wants to spend >25 lakh for EV - 34%"
   ]
  },
  {
   "cell_type": "markdown",
   "id": "c0aef012",
   "metadata": {},
   "source": [
    "### From this analysis, we can infer most of the customers want to spend less than 15 lakh for electric vehicle\n",
    "### This customer also prefer SUV and Sedan electric vehicle type "
   ]
  }
 ],
 "metadata": {
  "kernelspec": {
   "display_name": "Python 3 (ipykernel)",
   "language": "python",
   "name": "python3"
  },
  "language_info": {
   "codemirror_mode": {
    "name": "ipython",
    "version": 3
   },
   "file_extension": ".py",
   "mimetype": "text/x-python",
   "name": "python",
   "nbconvert_exporter": "python",
   "pygments_lexer": "ipython3",
   "version": "3.9.7"
  }
 },
 "nbformat": 4,
 "nbformat_minor": 5
}
